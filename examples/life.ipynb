{
 "cells": [
  {
   "cell_type": "markdown",
   "metadata": {},
   "source": [
    "# Conway's Game of Life"
   ]
  },
  {
   "cell_type": "markdown",
   "metadata": {},
   "source": [
    "## Installation"
   ]
  },
  {
   "cell_type": "markdown",
   "metadata": {},
   "source": [
    "You will need Python 3.10 or later, and a working JAX installation. For example, you can install JAX with:"
   ]
  },
  {
   "cell_type": "code",
   "execution_count": null,
   "metadata": {},
   "outputs": [],
   "source": [
    "%pip install -U \"jax[cuda12]\""
   ]
  },
  {
   "cell_type": "markdown",
   "metadata": {},
   "source": [
    "Then, install CAX from PyPi:"
   ]
  },
  {
   "cell_type": "code",
   "execution_count": null,
   "metadata": {},
   "outputs": [],
   "source": [
    "%pip install \"cax[examples] @ git+https://github.com/879f4cf7/cax.git\""
   ]
  },
  {
   "cell_type": "markdown",
   "metadata": {},
   "source": [
    "## Import"
   ]
  },
  {
   "cell_type": "code",
   "execution_count": 2,
   "metadata": {},
   "outputs": [],
   "source": [
    "import jax\n",
    "import jax.numpy as jnp\n",
    "import mediapy\n",
    "from cax.core.ca import CA\n",
    "from cax.core.perceive.conv_perceive import ConvPerceive\n",
    "from cax.core.perceive.kernels import identity_kernel, neighbors_kernel\n",
    "from cax.core.update.life_update import LifeUpdate\n",
    "from flax import nnx"
   ]
  },
  {
   "cell_type": "markdown",
   "metadata": {},
   "source": [
    "## Configuration"
   ]
  },
  {
   "cell_type": "code",
   "execution_count": null,
   "metadata": {},
   "outputs": [],
   "source": [
    "seed = 0\n",
    "\n",
    "spatial_dims = (32, 32)\n",
    "channel_size = 1\n",
    "\n",
    "num_steps = 128\n",
    "\n",
    "key = jax.random.key(seed)\n",
    "rngs = nnx.Rngs(seed)"
   ]
  },
  {
   "cell_type": "markdown",
   "metadata": {},
   "source": [
    "## Init state"
   ]
  },
  {
   "cell_type": "code",
   "execution_count": 4,
   "metadata": {},
   "outputs": [],
   "source": [
    "def init_state():\n",
    "\tstate = jnp.zeros((*spatial_dims, channel_size))\n",
    "\n",
    "\tmid_x, mid_y = spatial_dims[0] // 2, spatial_dims[1] // 2\n",
    "\tglider = jnp.array(\n",
    "\t\t[\n",
    "\t\t\t[0.0, 1.0, 0.0],\n",
    "\t\t\t[0.0, 0.0, 1.0],\n",
    "\t\t\t[1.0, 1.0, 1.0],\n",
    "\t\t]\n",
    "\t)\n",
    "\treturn state.at[mid_x : mid_x + 3, mid_y : mid_y + 3, 0].set(glider)"
   ]
  },
  {
   "cell_type": "markdown",
   "metadata": {},
   "source": [
    "## Model"
   ]
  },
  {
   "cell_type": "code",
   "execution_count": 16,
   "metadata": {},
   "outputs": [],
   "source": [
    "perceive = ConvPerceive(\n",
    "\tchannel_size=channel_size,\n",
    "\tperception_size=2 * channel_size,\n",
    "\trngs=rngs,\n",
    "\tpadding=\"CIRCULAR\",\n",
    "\tfeature_group_count=channel_size,\n",
    ")\n",
    "update = LifeUpdate()"
   ]
  },
  {
   "cell_type": "code",
   "execution_count": 17,
   "metadata": {},
   "outputs": [],
   "source": [
    "kernel = jnp.concatenate([identity_kernel(2), neighbors_kernel(2)], axis=-1)\n",
    "kernel = jnp.expand_dims(kernel, axis=-2)\n",
    "perceive.conv.kernel = nnx.Param(kernel)"
   ]
  },
  {
   "cell_type": "code",
   "execution_count": 18,
   "metadata": {},
   "outputs": [],
   "source": [
    "ca = CA(perceive, update)"
   ]
  },
  {
   "cell_type": "markdown",
   "metadata": {},
   "source": [
    "## Visualize"
   ]
  },
  {
   "cell_type": "code",
   "execution_count": 25,
   "metadata": {},
   "outputs": [],
   "source": [
    "state = jnp.zeros((*spatial_dims, channel_size))\n",
    "\n",
    "glider = jnp.array([[0, 1, 0], [0, 0, 1], [1, 1, 1]])\n",
    "state = state.at[8:11, 8:11, 0].set(glider)\n",
    "\n",
    "state = ca(state, num_steps=num_steps, all_steps=True)"
   ]
  },
  {
   "cell_type": "code",
   "execution_count": 26,
   "metadata": {},
   "outputs": [
    {
     "data": {
      "text/html": [
       "<table class=\"show_videos\" style=\"border-spacing:0px;\"><tr><td style=\"padding:1px;\"><img width=\"256\" height=\"256\" style=\"image-rendering:pixelated; object-fit:cover;\" src=\"data:image/gif;base64,R0lGODlhIAAgAPcBAAAAAAD/AP///////////////////////////////////////////////////////////////////////////////////////////////////////////////////////////////////////////////////////////////////////////////////////////////////////////////////////////////////////////////////////////////////////////////////////////////////////////////////////////////////////////////////////////////////////////////////////////////////////////////////////////////////////////////////////////////////////////////////////////////////////////////////////////////////////////////////////////////////////////////////////////////////////////////////////////////////////////////////////////////////////////////////////////////////////////////////////////////////////////////////////////////////////////////////////////////////////////////////////////////////////////////////////////////////////////////////////////////////////////////////////////////////////////////////////////////////////////////////////////////////////////////////////////////////////////////////////yH/C05FVFNDQVBFMi4wAwEAAAAh+QQFBAABACwAAAAAIAAgAIEAAAAA/wD///////8IPgABCBxIsKDBgwgTKlzIsKHDhxAjSpxIsaLFixQFANCIsaAAjh0HggxJsqTJkyhTqlzJsqXLlzBjypxJ82VAACH5BAUEAAEALAgACQADAAMAAAgLAAEECCBA4EABAQEAIfkEBQQAAQAsCAAJAAQAAgAACAoAAwgAEICgwIAAACH5BAUEAAEALAkACQADAAMAAAgMAAEICBAAAMEAAgICACH5BAUEAAEALAkACQACAAQAAAgLAAMAECAwQAABAQEAIfkEBQQAAQAsCQAKAAMAAwAACAsAAQQIIEDgQAEBAQAh+QQFBAABACwJAAoABAACAAAICgADCAAQgKDAgAAAIfkEBQQAAQAsCgAKAAMAAwAACAwAAQgIEAAAwQACAgIAIfkEBQQAAQAsCgAKAAIABAAACAsAAwAQIDBAAAEBAQAh+QQFBAABACwKAAsAAwADAAAICwABBAggQOBAAQEBACH5BAUEAAEALAoACwAEAAIAAAgKAAMIABCAoMCAAAAh+QQFBAABACwLAAsAAwADAAAIDAABCAgQAADBAAICAgAh+QQFBAABACwLAAsAAgAEAAAICwADABAgMEAAAQEBACH5BAUEAAEALAsADAADAAMAAAgLAAEECCBA4EABAQEAIfkEBQQAAQAsCwAMAAQAAgAACAoAAwgAEICgwIAAACH5BAUEAAEALAwADAADAAMAAAgMAAEICBAAAMEAAgICACH5BAUEAAEALAwADAACAAQAAAgLAAMAECAwQAABAQEAIfkEBQQAAQAsDAANAAMAAwAACAsAAQQIIEDgQAEBAQAh+QQFBAABACwMAA0ABAACAAAICgADCAAQgKDAgAAAIfkEBQQAAQAsDQANAAMAAwAACAwAAQgIEAAAwQACAgIAIfkEBQQAAQAsDQANAAIABAAACAsAAwAQIDBAAAEBAQAh+QQFBAABACwNAA4AAwADAAAICwABBAggQOBAAQEBACH5BAUEAAEALA0ADgAEAAIAAAgKAAMIABCAoMCAAAAh+QQFBAABACwOAA4AAwADAAAIDAABCAgQAADBAAICAgAh+QQFBAABACwOAA4AAgAEAAAICwADABAgMEAAAQEBACH5BAUEAAEALA4ADwADAAMAAAgLAAEECCBA4EABAQEAIfkEBQQAAQAsDgAPAAQAAgAACAoAAwgAEICgwIAAACH5BAUEAAEALA8ADwADAAMAAAgMAAEICBAAAMEAAgICACH5BAUEAAEALA8ADwACAAQAAAgLAAMAECAwQAABAQEAIfkEBQQAAQAsDwAQAAMAAwAACAsAAQQIIEDgQAEBAQAh+QQFBAABACwPABAABAACAAAICgADCAAQgKDAgAAAIfkEBQQAAQAsEAAQAAMAAwAACAwAAQgIEAAAwQACAgIAIfkEBQQAAQAsEAAQAAIABAAACAsAAwAQIDBAAAEBAQAh+QQFBAABACwQABEAAwADAAAICwABBAggQOBAAQEBACH5BAUEAAEALBAAEQAEAAIAAAgKAAMIABCAoMCAAAAh+QQFBAABACwRABEAAwADAAAIDAABCAgQAADBAAICAgAh+QQFBAABACwRABEAAgAEAAAICwADABAgMEAAAQEBACH5BAUEAAEALBEAEgADAAMAAAgLAAEECCBA4EABAQEAIfkEBQQAAQAsEQASAAQAAgAACAoAAwgAEICgwIAAACH5BAUEAAEALBIAEgADAAMAAAgMAAEICBAAAMEAAgICACH5BAUEAAEALBIAEgACAAQAAAgLAAMAECAwQAABAQEAIfkEBQQAAQAsEgATAAMAAwAACAsAAQQIIEDgQAEBAQAh+QQFBAABACwSABMABAACAAAICgADCAAQgKDAgAAAIfkEBQQAAQAsEwATAAMAAwAACAwAAQgIEAAAwQACAgIAIfkEBQQAAQAsEwATAAIABAAACAsAAwAQIDBAAAEBAQAh+QQFBAABACwTABQAAwADAAAICwABBAggQOBAAQEBACH5BAUEAAEALBMAFAAEAAIAAAgKAAMIABCAoMCAAAAh+QQFBAABACwUABQAAwADAAAIDAABCAgQAADBAAICAgAh+QQFBAABACwUABQAAgAEAAAICwADABAgMEAAAQEBACH5BAUEAAEALBQAFQADAAMAAAgLAAEECCBA4EABAQEAIfkEBQQAAQAsFAAVAAQAAgAACAoAAwgAEICgwIAAACH5BAUEAAEALBUAFQADAAMAAAgMAAEICBAAAMEAAgICACH5BAUEAAEALBUAFQACAAQAAAgLAAMAECAwQAABAQEAIfkEBQQAAQAsFQAWAAMAAwAACAsAAQQIIEDgQAEBAQAh+QQFBAABACwVABYABAACAAAICgADCAAQgKDAgAAAIfkEBQQAAQAsFgAWAAMAAwAACAwAAQgIEAAAwQACAgIAIfkEBQQAAQAsFgAWAAIABAAACAsAAwAQIDBAAAEBAQAh+QQFBAABACwWABcAAwADAAAICwABBAggQOBAAQEBACH5BAUEAAEALBYAFwAEAAIAAAgKAAMIABCAoMCAAAAh+QQFBAABACwXABcAAwADAAAIDAABCAgQAADBAAICAgAh+QQFBAABACwXABcAAgAEAAAICwADABAgMEAAAQEBACH5BAUEAAEALBcAGAADAAMAAAgLAAEECCBA4EABAQEAIfkEBQQAAQAsFwAYAAQAAgAACAoAAwgAEICgwIAAACH5BAUEAAEALBgAGAADAAMAAAgMAAEICBAAAMEAAgICACH5BAUEAAEALBgAGAACAAQAAAgLAAMAECAwQAABAQEAIfkEBQQAAQAsGAAZAAMAAwAACAsAAQQIIEDgQAEBAQAh+QQFBAABACwYABkABAACAAAICgADCAAQgKDAgAAAIfkEBQQAAQAsGQAZAAMAAwAACAwAAQgIEAAAwQACAgIAIfkEBQQAAQAsGQAZAAIABAAACAsAAwAQIDBAAAEBAQAh+QQFBAABACwZABoAAwADAAAICwABBAggQOBAAQEBACH5BAUEAAEALBkAGgAEAAIAAAgKAAMIABCAoMCAAAAh+QQFBAABACwaABoAAwADAAAIDAABCAgQAADBAAICAgAh+QQFBAABACwaABoAAgAEAAAICwADABAgMEAAAQEBACH5BAUEAAEALBoAGwADAAMAAAgLAAEECCBA4EABAQEAIfkEBQQAAQAsGgAbAAQAAgAACAoAAwgAEICgwIAAACH5BAUEAAEALBsAGwADAAMAAAgMAAEICBAAAMEAAgICACH5BAUEAAEALBsAGwACAAQAAAgLAAMAECAwQAABAQEAIfkEBQQAAQAsGwAcAAMAAwAACAsAAQQIIEDgQAEBAQAh+QQFBAABACwbABwABAACAAAICgADCAAQgKDAgAAAIfkEBQQAAQAsHAAcAAMAAwAACAwAAQgIEAAAwQACAgIAIfkEBQQAAQAsHAAcAAIABAAACAsAAwAQIDBAAAEBAQAh+QQFBAABACwcAB0AAwADAAAICwABBAggQOBAAQEBACH5BAUEAAEALBwAHQAEAAIAAAgKAAMIABCAoMCAAAAh+QQFBAABACwdAB0AAwADAAAIDAABCAgQAADBAAICAgAh+QQFBAABACwdAAAAAgAgAAAIFgADCAhAsKDBgwgTKlzIkCCAgQACBAQAIfkEBQQAAQAsHQAAAAMAIAAACBgAAwQQILCgwYMIEypcyLChQ4YABAqIGBAAIfkEBQQAAQAsAAAeACAAAgAACBYAAwgcSLCgwYMCBQAQgLChwwAABAYEACH5BAUEAAEALAAAAAAgACAAAAg6AAUEGEiwoMGDCBMqXMiwocOHECNKnEixosWLGDNq3Mixo8ePIEOKHEmypMmTKFOqXMmSJQCBHwEEBAAh+QQFBAABACweAAAAAgAgAAAIFQABBAggYKDBgwgTKlzIsKFBAAUDAgAh+QQFBAABACwAAAAAIAAgAAAIPAADCBxIsKDBgwIFABCAsKHDhxAjSpxIsaLFixgzatzIsaPHjyBDihxJsqTJkyhTqlzJsqXLlzA/AggQEAAh+QQFBAABACwAAAAAIAAgAAAIPAADCAhAsKDBgwgTAkjIsKHDhxAjSpxIsaLFixgzatzIsaPHjyBDihxJsqTJkyhTqlzJsqXLlygXhhQQEAAh+QQFBAABACwAAAAAIAAgAAAIOwABBBhIsKDBgwgLCkjIsKHDhxAjSpxIsaLFixgzatzIsaPHjyBDihxJsqTJkyhTqlzJsqXLlQtBAggIACH5BAUEAAEALAAAAAAgACAAAAg8AAMIHEiwoMGDAwUgXMiQIACFDSNKnEixosWLGDNq3Mixo8ePIEOKHEmypMmTKFOqXMmypcuXMFECIBkQACH5BAUEAAEALAAAAAAgAAMAAAgZAAMIHEiwoMGDAwEAQMiw4UABASA6nGgwIAAh+QQFBAABACwAAAAAIAACAAAIFQAFAAhAsKDBgwgTGhSgsKHDAAACAgAh+QQFBAABACwAAAAAAwADAAAIDAABCAgQAADBAAICAgAh+QQFBAABACwAAAAAAgAEAAAICwADABAgMEAAAQEBACH5BAUEAAEALAAAAQADAAMAAAgLAAEECCBA4EABAQEAIfkEBQQAAQAsAAABAAQAAgAACAoAAwgAEICgwIAAACH5BAUEAAEALAEAAQADAAMAAAgMAAEICBAAAMEAAgICACH5BAUEAAEALAEAAQACAAQAAAgLAAMAECAwQAABAQEAIfkEBQQAAQAsAQACAAMAAwAACAsAAQQIIEDgQAEBAQAh+QQFBAABACwBAAIABAACAAAICgADCAAQgKDAgAAAIfkEBQQAAQAsAgACAAMAAwAACAwAAQgIEAAAwQACAgIAIfkEBQQAAQAsAgACAAIABAAACAsAAwAQIDBAAAEBAQAh+QQFBAABACwCAAMAAwADAAAICwABBAggQOBAAQEBACH5BAUEAAEALAIAAwAEAAIAAAgKAAMIABCAoMCAAAAh+QQFBAABACwDAAMAAwADAAAIDAABCAgQAADBAAICAgAh+QQFBAABACwDAAMAAgAEAAAICwADABAgMEAAAQEBACH5BAUEAAEALAMABAADAAMAAAgLAAEECCBA4EABAQEAIfkEBQQAAQAsAwAEAAQAAgAACAoAAwgAEICgwIAAACH5BAUEAAEALAQABAADAAMAAAgMAAEICBAAAMEAAgICACH5BAUEAAEALAQABAACAAQAAAgLAAMAECAwQAABAQEAIfkEBQQAAQAsBAAFAAMAAwAACAsAAQQIIEDgQAEBAQAh+QQFBAABACwEAAUABAACAAAICgADCAAQgKDAgAAAIfkEBQQAAQAsBQAFAAMAAwAACAwAAQgIEAAAwQACAgIAIfkEBQQAAQAsBQAFAAIABAAACAsAAwAQIDBAAAEBAQAh+QQFBAABACwFAAYAAwADAAAICwABBAggQOBAAQEBACH5BAUEAAEALAUABgAEAAIAAAgKAAMIABCAoMCAAAAh+QQFBAABACwGAAYAAwADAAAIDAABCAgQAADBAAICAgAh+QQFBAABACwGAAYAAgAEAAAICwADABAgMEAAAQEBACH5BAUEAAEALAYABwADAAMAAAgLAAEECCBA4EABAQEAIfkEBQQAAQAsBgAHAAQAAgAACAoAAwgAEICgwIAAACH5BAUEAAEALAcABwADAAMAAAgMAAEICBAAAMEAAgICACH5BAUEAAEALAcABwACAAQAAAgLAAMAECAwQAABAQEAIfkEBQQAAQAsBwAIAAMAAwAACAsAAQQIIEDgQAEBAQAh+QQFBAABACwHAAgABAACAAAICgADCAAQgKDAgAAAIfkEBQQAAQAsCAAIAAMAAwAACAwAAQgIEAAAwQACAgIAOw==\"/></td></tr></table>"
      ],
      "text/plain": [
       "<IPython.core.display.HTML object>"
      ]
     },
     "metadata": {},
     "output_type": "display_data"
    }
   ],
   "source": [
    "mediapy.show_video(jnp.squeeze(state), width=256, height=256, codec=\"gif\")"
   ]
  }
 ],
 "metadata": {
  "kernelspec": {
   "display_name": "base",
   "language": "python",
   "name": "python3"
  },
  "language_info": {
   "codemirror_mode": {
    "name": "ipython",
    "version": 3
   },
   "file_extension": ".py",
   "mimetype": "text/x-python",
   "name": "python",
   "nbconvert_exporter": "python",
   "pygments_lexer": "ipython3",
   "version": "3.12.6"
  }
 },
 "nbformat": 4,
 "nbformat_minor": 2
}
