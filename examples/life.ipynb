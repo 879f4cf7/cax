{
 "cells": [
  {
   "cell_type": "markdown",
   "metadata": {},
   "source": [
    "# Conway's Game of Life"
   ]
  },
  {
   "cell_type": "markdown",
   "metadata": {},
   "source": [
    "## Installation"
   ]
  },
  {
   "cell_type": "markdown",
   "metadata": {},
   "source": [
    "You will need Python 3.10 or later, and a working JAX installation. For example, you can install JAX with:"
   ]
  },
  {
   "cell_type": "code",
   "execution_count": null,
   "metadata": {},
   "outputs": [],
   "source": [
    "%pip install -U \"jax[cuda12]\""
   ]
  },
  {
   "cell_type": "markdown",
   "metadata": {},
   "source": [
    "Then, install CAX:"
   ]
  },
  {
   "cell_type": "code",
   "execution_count": null,
   "metadata": {},
   "outputs": [],
   "source": [
    "%pip install \"cax[examples] @ git+https://github.com/879f4cf7/cax.git\""
   ]
  },
  {
   "cell_type": "markdown",
   "metadata": {},
   "source": [
    "## Import"
   ]
  },
  {
   "cell_type": "code",
   "execution_count": 1,
   "metadata": {},
   "outputs": [],
   "source": [
    "import jax\n",
    "import jax.numpy as jnp\n",
    "import mediapy\n",
    "from cax.core.ca import CA\n",
    "from cax.core.perceive.depthwise_conv_perceive import DepthwiseConvPerceive\n",
    "from cax.core.perceive.kernels import identity_kernel, neighbors_kernel\n",
    "from cax.core.update.life_update import LifeUpdate\n",
    "from flax import nnx"
   ]
  },
  {
   "cell_type": "markdown",
   "metadata": {},
   "source": [
    "## Configuration"
   ]
  },
  {
   "cell_type": "code",
   "execution_count": null,
   "metadata": {},
   "outputs": [],
   "source": [
    "seed = 0\n",
    "\n",
    "spatial_dims = (128, 128)\n",
    "channel_size = 1\n",
    "\n",
    "num_steps = 128\n",
    "\n",
    "key = jax.random.key(seed)\n",
    "rngs = nnx.Rngs(seed)"
   ]
  },
  {
   "cell_type": "markdown",
   "metadata": {},
   "source": [
    "## Init state"
   ]
  },
  {
   "cell_type": "code",
   "execution_count": 3,
   "metadata": {},
   "outputs": [],
   "source": [
    "def init_state():\n",
    "\tstate = jnp.zeros((*spatial_dims, channel_size))\n",
    "\n",
    "\tmid_x, mid_y = spatial_dims[0] // 2, spatial_dims[1] // 2\n",
    "\tglider = jnp.array(\n",
    "\t\t[\n",
    "\t\t\t[0.0, 1.0, 0.0],\n",
    "\t\t\t[0.0, 0.0, 1.0],\n",
    "\t\t\t[1.0, 1.0, 1.0],\n",
    "\t\t]\n",
    "\t)\n",
    "\treturn state.at[mid_x : mid_x + 3, mid_y : mid_y + 3, 0].set(glider)"
   ]
  },
  {
   "cell_type": "markdown",
   "metadata": {},
   "source": [
    "## Model"
   ]
  },
  {
   "cell_type": "code",
   "execution_count": 4,
   "metadata": {},
   "outputs": [],
   "source": [
    "perceive = DepthwiseConvPerceive(channel_size, rngs, num_kernels=2, kernel_size=(3, 3))\n",
    "update = LifeUpdate()"
   ]
  },
  {
   "cell_type": "code",
   "execution_count": 5,
   "metadata": {},
   "outputs": [],
   "source": [
    "kernel = jnp.concatenate([identity_kernel(2), neighbors_kernel(2)], axis=-1)\n",
    "kernel = jnp.expand_dims(kernel, axis=-2)\n",
    "perceive.depthwise_conv.kernel = nnx.Param(kernel)"
   ]
  },
  {
   "cell_type": "code",
   "execution_count": 6,
   "metadata": {},
   "outputs": [],
   "source": [
    "ca = CA(perceive, update)"
   ]
  },
  {
   "cell_type": "markdown",
   "metadata": {},
   "source": [
    "## Visualize"
   ]
  },
  {
   "cell_type": "code",
   "execution_count": 7,
   "metadata": {},
   "outputs": [],
   "source": [
    "state = jnp.zeros((*spatial_dims, channel_size))\n",
    "\n",
    "glider = jnp.array([[0, 1, 0], [0, 0, 1], [1, 1, 1]])\n",
    "state = state.at[64:67, 64:67, 0].set(glider)"
   ]
  },
  {
   "cell_type": "code",
   "execution_count": 8,
   "metadata": {},
   "outputs": [
    {
     "data": {
      "text/html": [
       "<table class=\"show_images\" style=\"border-spacing:0px;\"><tr><td style=\"padding:1px;\"><img width=\"256\" height=\"256\" style=\"image-rendering:pixelated; object-fit:cover;\" src=\"data:image/png;base64,iVBORw0KGgoAAAANSUhEUgAAAIAAAACACAIAAABMXPacAAAAW0lEQVR4nO3RoQ0AMAwDwYDuv7KLiwOiqHcTvOwqAAAAAAAAAAAAAAAAAAAAAAAAAAAAAACAviTTCd/b+8GZDujaOz0AAAAAAAAAAAAAAAAAAAAAAAAAAAAA8LjjIgj8tZm3JQAAAABJRU5ErkJggg==\"/></td></tr></table>"
      ],
      "text/plain": [
       "<IPython.core.display.HTML object>"
      ]
     },
     "metadata": {},
     "output_type": "display_data"
    }
   ],
   "source": [
    "mediapy.show_image(state, width=256, height=256)"
   ]
  },
  {
   "cell_type": "code",
   "execution_count": 9,
   "metadata": {},
   "outputs": [],
   "source": [
    "state = ca(state, num_steps=num_steps, all_steps=True)"
   ]
  },
  {
   "cell_type": "code",
   "execution_count": 10,
   "metadata": {},
   "outputs": [
    {
     "data": {
      "text/html": [
       "<table class=\"show_videos\" style=\"border-spacing:0px;\"><tr><td style=\"padding:1px;\"><img width=\"256\" height=\"256\" style=\"image-rendering:pixelated; object-fit:cover;\" src=\"data:image/gif;base64,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\"/></td></tr></table>"
      ],
      "text/plain": [
       "<IPython.core.display.HTML object>"
      ]
     },
     "metadata": {},
     "output_type": "display_data"
    }
   ],
   "source": [
    "mediapy.show_video(jnp.squeeze(state), width=256, height=256, codec=\"gif\")"
   ]
  }
 ],
 "metadata": {
  "kernelspec": {
   "display_name": "base",
   "language": "python",
   "name": "python3"
  },
  "language_info": {
   "codemirror_mode": {
    "name": "ipython",
    "version": 3
   },
   "file_extension": ".py",
   "mimetype": "text/x-python",
   "name": "python",
   "nbconvert_exporter": "python",
   "pygments_lexer": "ipython3",
   "version": "3.12.4"
  }
 },
 "nbformat": 4,
 "nbformat_minor": 2
}
