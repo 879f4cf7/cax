{
 "cells": [
  {
   "cell_type": "markdown",
   "metadata": {},
   "source": [
    "# 1D-ARC Neural Cellular Automata"
   ]
  },
  {
   "cell_type": "markdown",
   "metadata": {},
   "source": [
    "## Installation"
   ]
  },
  {
   "cell_type": "markdown",
   "metadata": {},
   "source": [
    "You will need Python 3.10 or later, and a working JAX installation. For example, you can install JAX with:"
   ]
  },
  {
   "cell_type": "code",
   "execution_count": null,
   "metadata": {},
   "outputs": [],
   "source": [
    "%pip install -U \"jax[cuda12]\""
   ]
  },
  {
   "cell_type": "markdown",
   "metadata": {},
   "source": [
    "Then, install CAX:"
   ]
  },
  {
   "cell_type": "code",
   "execution_count": null,
   "metadata": {},
   "outputs": [],
   "source": [
    "%pip install \"cax[examples] @ git+https://github.com/879f4cf7/cax.git\""
   ]
  },
  {
   "cell_type": "markdown",
   "metadata": {},
   "source": [
    "## Import"
   ]
  },
  {
   "cell_type": "code",
   "execution_count": 1,
   "metadata": {},
   "outputs": [],
   "source": [
    "import json\n",
    "import os\n",
    "\n",
    "import jax\n",
    "import jax.numpy as jnp\n",
    "import mediapy\n",
    "import optax\n",
    "from cax.core.ca import CA\n",
    "from cax.core.perceive.depthwise_conv_perceive import DepthwiseConvPerceive\n",
    "from cax.core.perceive.kernels import grad_kernel, identity_kernel\n",
    "from cax.core.update.residual_update import ResidualUpdate\n",
    "from flax import nnx\n",
    "from tqdm.auto import tqdm"
   ]
  },
  {
   "cell_type": "markdown",
   "metadata": {},
   "source": [
    "## Configuration"
   ]
  },
  {
   "cell_type": "code",
   "execution_count": null,
   "metadata": {},
   "outputs": [],
   "source": [
    "seed = 0\n",
    "\n",
    "channel_size = 32\n",
    "num_spatial_dims = 1\n",
    "num_kernels = 2\n",
    "hidden_size = 256\n",
    "cell_dropout_rate = 0.5\n",
    "\n",
    "batch_size = 8\n",
    "num_steps = 128\n",
    "learning_rate = 1e-3\n",
    "\n",
    "ds_size = 128\n",
    "\n",
    "key = jax.random.key(seed)\n",
    "rngs = nnx.Rngs(seed)"
   ]
  },
  {
   "cell_type": "markdown",
   "metadata": {},
   "source": [
    "## Dataset"
   ]
  },
  {
   "cell_type": "code",
   "execution_count": null,
   "metadata": {},
   "outputs": [],
   "source": [
    "# Install 1D-ARC dataset\n",
    "!git clone https://github.com/khalil-research/1D-ARC.git"
   ]
  },
  {
   "cell_type": "code",
   "execution_count": 81,
   "metadata": {},
   "outputs": [],
   "source": [
    "ds_path = \"./1D-ARC/dataset\"\n",
    "\n",
    "train_examples = []\n",
    "test_examples = []\n",
    "task_index_to_name = {}\n",
    "\n",
    "\n",
    "def process_example(example, task_index):\n",
    "\tinput_data = jnp.squeeze(jnp.array(example[\"input\"], dtype=jnp.int32))\n",
    "\toutput_data = jnp.squeeze(jnp.array(example[\"output\"], dtype=jnp.int32))\n",
    "\n",
    "\tassert input_data.shape == output_data.shape\n",
    "\n",
    "\tpad_size = ds_size - input_data.size\n",
    "\tpad_left, pad_right = pad_size // 2, pad_size - pad_size // 2\n",
    "\n",
    "\tinput_padded = jnp.pad(input_data, (pad_left, pad_right))\n",
    "\toutput_padded = jnp.pad(output_data, (pad_left, pad_right))\n",
    "\n",
    "\treturn jnp.expand_dims(\n",
    "\t\tjnp.concatenate([jnp.array([task_index], dtype=jnp.int32), input_padded, output_padded]), axis=-1\n",
    "\t)\n",
    "\n",
    "\n",
    "for task_index, task_name in enumerate(os.listdir(ds_path)):\n",
    "\ttask_index_to_name[task_index] = task_name\n",
    "\ttask_path = os.path.join(ds_path, task_name)\n",
    "\n",
    "\tfor task_file in os.listdir(task_path):\n",
    "\t\twith open(os.path.join(task_path, task_file)) as f:\n",
    "\t\t\tdata = json.load(f)\n",
    "\t\t\tfor split, examples in [(\"train\", train_examples), (\"test\", test_examples)]:\n",
    "\t\t\t\texamples.extend(process_example(ex, task_index) for ex in data[split])\n",
    "\n",
    "train_tasks = jnp.array(train_examples)\n",
    "test_tasks = jnp.array(test_examples)\n",
    "\n",
    "task_list = list(task_index_to_name.values())"
   ]
  },
  {
   "cell_type": "markdown",
   "metadata": {},
   "source": [
    "## Init state"
   ]
  },
  {
   "cell_type": "code",
   "execution_count": 19,
   "metadata": {},
   "outputs": [],
   "source": [
    "def init_state(key):\n",
    "\t# Sample dataset\n",
    "\tsample = jax.random.choice(key, train_tasks)\n",
    "\n",
    "\t# Sample input and target\n",
    "\ttask_index, input, target = jnp.split(sample, indices_or_sections=[1, ds_size + 1])\n",
    "\n",
    "\t# Initialize state\n",
    "\tstate = jnp.zeros((ds_size, channel_size))\n",
    "\tstate = state.at[..., :1].set(input)\n",
    "\treturn state, target, task_index\n",
    "\n",
    "\n",
    "def init_state_test(key):\n",
    "\t# Sample dataset\n",
    "\tsample = jax.random.choice(key, test_tasks)\n",
    "\n",
    "\t# Sample input and target\n",
    "\ttask_index, input, target = jnp.split(sample, indices_or_sections=[1, ds_size + 1])\n",
    "\n",
    "\t# Initialize state\n",
    "\tstate = jnp.zeros((ds_size, channel_size))\n",
    "\tstate = state.at[..., :1].set(input)\n",
    "\treturn state, target, task_index"
   ]
  },
  {
   "cell_type": "markdown",
   "metadata": {},
   "source": [
    "## Model"
   ]
  },
  {
   "cell_type": "code",
   "execution_count": 6,
   "metadata": {},
   "outputs": [],
   "source": [
    "perceive = DepthwiseConvPerceive(channel_size, rngs, num_kernels=num_kernels, kernel_size=(3,))\n",
    "update = ResidualUpdate(\n",
    "\tnum_spatial_dims,\n",
    "\tchannel_size,\n",
    "\tnum_kernels * channel_size + 8,\n",
    "\t(hidden_size,),\n",
    "\trngs,\n",
    "\tcell_dropout_rate=cell_dropout_rate,\n",
    ")\n",
    "embed_input = nnx.Embed(num_embeddings=10, features=3, rngs=rngs)\n",
    "embed_task = nnx.Embed(num_embeddings=len(task_list), features=8, rngs=rngs)\n",
    "\n",
    "\n",
    "class EmbedCA(CA):\n",
    "\tembed_input: nnx.Embed\n",
    "\tembed_task: nnx.Embed\n",
    "\n",
    "\tdef __init__(self, perceive, update, embed_input, embed_task):\n",
    "\t\tsuper().__init__(perceive, update)\n",
    "\n",
    "\t\tself.embed_input = embed_input\n",
    "\t\tself.embed_task = embed_task"
   ]
  },
  {
   "cell_type": "code",
   "execution_count": 7,
   "metadata": {},
   "outputs": [],
   "source": [
    "kernel = jnp.concatenate([identity_kernel(ndim=1), grad_kernel(ndim=1)], axis=-1)\n",
    "kernel = jnp.expand_dims(jnp.concatenate([kernel] * channel_size, axis=-1), axis=-2)\n",
    "perceive.depthwise_conv.kernel = nnx.Param(kernel)"
   ]
  },
  {
   "cell_type": "code",
   "execution_count": 8,
   "metadata": {},
   "outputs": [],
   "source": [
    "ca = EmbedCA(perceive, update, embed_input, embed_task)"
   ]
  },
  {
   "cell_type": "code",
   "execution_count": null,
   "metadata": {},
   "outputs": [],
   "source": [
    "params = nnx.state(ca, nnx.Param)\n",
    "print(\"Number of params:\", jax.tree.reduce(lambda x, y: x + y.size, params, 0))"
   ]
  },
  {
   "cell_type": "markdown",
   "metadata": {},
   "source": [
    "## Train"
   ]
  },
  {
   "cell_type": "code",
   "execution_count": 10,
   "metadata": {},
   "outputs": [],
   "source": [
    "lr_sched = optax.linear_schedule(init_value=learning_rate, end_value=0.1 * learning_rate, transition_steps=2_000)\n",
    "\n",
    "optimizer = optax.chain(\n",
    "\toptax.clip_by_global_norm(1.0),\n",
    "\toptax.adam(learning_rate=lr_sched),\n",
    ")\n",
    "\n",
    "update_params = nnx.All(nnx.Param, nnx.PathContains(\"update\"))\n",
    "optimizer = nnx.Optimizer(ca, optimizer, wrt=update_params)"
   ]
  },
  {
   "cell_type": "markdown",
   "metadata": {},
   "source": [
    "### Loss"
   ]
  },
  {
   "cell_type": "code",
   "execution_count": 11,
   "metadata": {},
   "outputs": [],
   "source": [
    "def mse(state, target):\n",
    "\treturn jnp.mean(jnp.square(state[..., :3] - target))"
   ]
  },
  {
   "cell_type": "code",
   "execution_count": 12,
   "metadata": {},
   "outputs": [],
   "source": [
    "@nnx.jit\n",
    "def loss_fn(ca, state, target, task_index):\n",
    "\t# Embed\n",
    "\tinput = state[..., 0]\n",
    "\tinput_embed = ca.embed_input(jnp.asarray(input, dtype=jnp.int32))\n",
    "\ttask_embed = ca.embed_task(jnp.asarray(task_index, dtype=jnp.int32))\n",
    "\tstate = state.at[..., :3].set(input_embed)\n",
    "\n",
    "\ttarget_embed = ca.embed_input(jnp.asarray(target[..., 0], dtype=jnp.int32))\n",
    "\n",
    "\tstate_axes = nnx.StateAxes({nnx.RngState: 0, ...: None})\n",
    "\tstate = nnx.split_rngs(splits=batch_size)(\n",
    "\t\tnnx.vmap(\n",
    "\t\t\tlambda ca, state, task_embed: ca(state, task_embed, num_steps=num_steps),\n",
    "\t\t\tin_axes=(state_axes, 0, 0),\n",
    "\t\t)\n",
    "\t)(ca, state, task_embed)\n",
    "\n",
    "\tloss = mse(state, target_embed)\n",
    "\treturn loss"
   ]
  },
  {
   "cell_type": "markdown",
   "metadata": {},
   "source": [
    "### Train step"
   ]
  },
  {
   "cell_type": "code",
   "execution_count": 13,
   "metadata": {},
   "outputs": [],
   "source": [
    "@nnx.jit\n",
    "def train_step(ca, optimizer, key):\n",
    "\tkeys = jax.random.split(key, batch_size)\n",
    "\tstate, target, task_index = jax.vmap(init_state)(keys)\n",
    "\n",
    "\tloss, grad = nnx.value_and_grad(loss_fn, argnums=nnx.DiffState(0, update_params))(ca, state, target, task_index)\n",
    "\toptimizer.update(grad)\n",
    "\treturn loss"
   ]
  },
  {
   "cell_type": "markdown",
   "metadata": {},
   "source": [
    "### Main loop"
   ]
  },
  {
   "cell_type": "code",
   "execution_count": null,
   "metadata": {},
   "outputs": [],
   "source": [
    "num_train_steps = 8_192\n",
    "print_interval = 128\n",
    "\n",
    "pbar = tqdm(range(num_train_steps), desc=\"Training\", unit=\"train_step\")\n",
    "losses = []\n",
    "\n",
    "for i in pbar:\n",
    "\tkey, subkey = jax.random.split(key)\n",
    "\tloss = train_step(ca, optimizer, subkey)\n",
    "\tlosses.append(loss)\n",
    "\n",
    "\tif i % print_interval == 0 or i == num_train_steps - 1:\n",
    "\t\tavg_loss = sum(losses[-print_interval:]) / len(losses[-print_interval:])\n",
    "\t\tpbar.set_postfix({\"Average Loss\": f\"{avg_loss:.6f}\"})"
   ]
  },
  {
   "cell_type": "markdown",
   "metadata": {},
   "source": [
    "## Visualize"
   ]
  },
  {
   "cell_type": "code",
   "execution_count": 74,
   "metadata": {},
   "outputs": [],
   "source": [
    "key, subkey = jax.random.split(key)\n",
    "keys = jax.random.split(subkey, 8)\n",
    "state_init, target, task_index = jax.vmap(init_state_test)(keys)\n",
    "\n",
    "input = state_init[..., 0]\n",
    "input_embed = ca.embed_input(jnp.asarray(input, dtype=jnp.int32))\n",
    "task_embed = ca.embed_task(jnp.asarray(task_index, dtype=jnp.int32))\n",
    "state_init = state_init.at[..., :3].set(input_embed)\n",
    "\n",
    "state_axes = nnx.StateAxes({nnx.RngState: 0, ...: None})\n",
    "state = nnx.split_rngs(splits=batch_size)(\n",
    "\tnnx.vmap(\n",
    "\t\tlambda ca, state, task_embed: ca(state, task_embed, num_steps=num_steps, all_steps=True),\n",
    "\t\tin_axes=(state_axes, 0, 0),\n",
    "\t)\n",
    ")(ca, state_init, task_embed)\n",
    "\n",
    "state_rgb = jnp.concatenate([jnp.expand_dims(state_init[..., :3], axis=1), state[..., :3]], axis=1)"
   ]
  },
  {
   "cell_type": "code",
   "execution_count": 41,
   "metadata": {},
   "outputs": [
    {
     "data": {
      "text/html": [
       "<table class=\"show_images\" style=\"border-spacing:0px;\"><tr><td style=\"padding:1px;\"><div style=\"display:flex; align-items:left;\">\n",
       "      <div style=\"display:flex; flex-direction:column; align-items:center;\">\n",
       "      <div>1d_hollow</div><div><img width=\"256\" height=\"256\" style=\"image-rendering:pixelated; object-fit:cover;\" src=\"data:image/png;base64,iVBORw0KGgoAAAANSUhEUgAAAIAAAACBCAIAAACHACU5AAADN0lEQVR4nO2cQXKbQBBFHyjJubLJqbPJjbxIYjGDYLIYISNvUsW4aP+p/xYulcuLxo/u34CkAUV+/Hr/m5/fz6/iQxijCzjE+ML4cn8B8BJaTRNfogs4RMmUNbqIj0GzA8qNZQLuP+c/seW0ICpg4Za2+QP5d2g1TYgKKG+vL8IBgKqAyjrdR1DyCDqfWwa4peg6WpEVUJkT6xRdRBOaAsrKnAFmd0AIK8yJ23bup7+h1TShKaBuQfoBgKqAPYszIIS8nf7zxFV4BGneC6rMiZz49jW6jiY0O6D8/09UkBWQthGUtEeQuICaBNNrbDktaAp4kOU3UU0BNQPmdO+D6zW0miY0BezJvg44n30IA1dhB5oCKm8BkCPLaENTQBkAUiIlknAAoCoAmB63QieYQ0tpQlNAgSmRhSfPA00BwDztcvgWWUkbojfjBqhNkBgLCL9JS7YD2G+iFhBAgprA2mgKKNwFAK9eQ00DugIyUw9rqO4WlFgT68Ky3JciTTQ7oAAZEjiEYxg2AfKICthRJo+gKDyCItlngDvgbAZIWwZMskcByqX3cBGAsgA2B1n6KHRLnyHDBEn5KFRLH7bTX/5SQPRWBFsHCD8JqOgKADIs0TW0IiqgjqAav8IPhJHNALbhU5NA9DQCZQEV4XcEVaQF1NNfOwaEmxdmWNQXIekOqKxwia7hOH0IEEZaQE1gCwjjEb/CSSYqYP8ERvtDw6ICHvg6wLTRgQCH8PkMzoDPhbcgc5QOBHgExSP8nU2iAhzC5oPoQ4C3oLMRfjfuOzQFPP3/izvgfNwBn4jiNdQcxwKC6UDA6hEUi6+EA9hvQe6AYPxELBiPoGBWLh5BkXgEnU8/dyJEBTzhERTA8xpqAaEUC4jGAkLxCArGa6hpwAKC6ULAxQ/lI/HNuHDcAeYwFhBMFwJGj6BIHMLBWEA4F39bijlKFwIuwkchXHofdCDAIWwa6ELA6C0oEo+gcEbhoxAuvQ+6EOAOCMYXYqE4hE0DFhCMBQTThYBB+CiES++DLgSMwh9Z6kOA8FFolv5u9XcHBGMB5jBdCHAHmMN0IcAdEIrvhpoGLCCYDgR4BIXjEDaH+QfeFeEexzdJYwAAAABJRU5ErkJggg==\"/></div></div></div></td><td style=\"padding:1px;\"><div style=\"display:flex; align-items:left;\">\n",
       "      <div style=\"display:flex; flex-direction:column; align-items:center;\">\n",
       "      <div>1d_recolor_oe</div><div><img width=\"256\" height=\"256\" style=\"image-rendering:pixelated; object-fit:cover;\" src=\"data:image/png;base64,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\"/></div></div></div></td><td style=\"padding:1px;\"><div style=\"display:flex; align-items:left;\">\n",
       "      <div style=\"display:flex; flex-direction:column; align-items:center;\">\n",
       "      <div>1d_pcopy_1c</div><div><img width=\"256\" height=\"256\" style=\"image-rendering:pixelated; object-fit:cover;\" src=\"data:image/png;base64,iVBORw0KGgoAAAANSUhEUgAAAIAAAACBCAIAAACHACU5AAAC8UlEQVR4nO2cwW7bMBBER0lbx20/v5/bhj0sChgiBdRtyJ0dzkOQg05DPXGXpGUDbPz483e6KMpLdoCOn6OLbXWKZfAJwOh2U8b8EIqM7MgOMI0iAnThE6D7sA/hExDodt0TrAK2gVJAX4V06xKfAN17PYRPAIADeM/OsAo+AXyJpsI33GOvKkQpYCf4BEQi7wO40J0WfALiXrfRRUUoBWxTf0Aq4C8vSmAByfAJgEuQWYgFJMMnYLgM1YVPwBA34aVs8/iDUYDuwz6ET8Bm8AnwDGBE1wqlADfhTPgSTWWz4fLBJ0C33A/hEwCgbaSBT8Dw1uu25SICdOETEGyjgU/ANrc+4BOwGZQCdFtuD58Ar4KS8buhyVw14S9LUyyDT8AV37MDzIFPgN+KSOaqBH1bmmIZfAKu+JodYA58AoYlqFnAMq5KkAWso42asAXk8vqWnWAOZQSoUkGA9AF1BQF35X0ZnwB/S5ITN+G1PE6COwC8+DR0HX0J0i1KfAL6Nc8dAI7b8iRL4BNwwfE5O8EcWAXo1pwTlAKGPcBNOI04hvuUnGISfAKkDx56+AQE3T5AFT4Bw2VoQ3MJSuMOwAJWcloFvQHAuwWkEQJes2PMoYIAafgE9E34BjT88gxYx6kHiB7DBZQCTtwAoHkGLKUvRKxJ/5MKw4oS5BmQhug5aMAnoC8+oh/FBHwCAvcAIjwDkrGAZCxgNaedsOg5aEAp4IToDiCoICAQnQd1BIhSQYDosx/wCRi+E6f7rgqfgJ7IKNqKKwiQpoIA0Wc/qCDAJSiBx1bMmvFDqDA4z4BkYg1aIek/UGFYIcAzwMzAApKhFLDNN/RAKmBInaRPITqsOlQQ4GWomYcFJFNHQJ2kT1FhWLofh4FRwE6bADAK2Iw6AuokfYo6wxLtBHUE1En6FKzD6n++3jPAzKCOAM+AZCwgjePhvxwVBEhTR4BngJmBBSRTQYCbcALeCZs1WEAydQS4BCVjAWYGFpCMBSTzG3kTNqyJcmaHAAAAAElFTkSuQmCC\"/></div></div></div></td><td style=\"padding:1px;\"><div style=\"display:flex; align-items:left;\">\n",
       "      <div style=\"display:flex; flex-direction:column; align-items:center;\">\n",
       "      <div>1d_recolor_cmp</div><div><img width=\"256\" height=\"256\" style=\"image-rendering:pixelated; object-fit:cover;\" src=\"data:image/png;base64,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\"/></div></div></div></td><td style=\"padding:1px;\"><div style=\"display:flex; align-items:left;\">\n",
       "      <div style=\"display:flex; flex-direction:column; align-items:center;\">\n",
       "      <div>1d_flip</div><div><img width=\"256\" height=\"256\" style=\"image-rendering:pixelated; object-fit:cover;\" src=\"data:image/png;base64,iVBORw0KGgoAAAANSUhEUgAAAIAAAACBCAIAAACHACU5AAACi0lEQVR4nO3c227aQBSF4Q0k4KhVqx4U5YX63n2nHsQYA73Aw03uukdarK3/U6Tkcoc/M3aMcYSjHz+vEbcvd1v1AP/leFwiIuKveI4BPAO0FhEn9RRDeAY4nSLiGjGrB8nzDLCcImKnnmIIzwC+c7/j+Yss823ui3iOATwDRETERj3AEJ4BljkIgCE8A1wKnH+uPAMUQgAx7wCchiLLM8B5PQ09qwfJ8wzQ8X6AyLmpJxjGM0AhngEu6wrgLEjkfLx9J4DIdX0zmIOwyPWPeoJhvAOwAlR+qQcYxjTAioOwGFsQskwDrMcAVgCyCCDmHYCzIGQRQMw7AFuQxtfNb/UIw1gGeNtwLUjqra8AtiCN1w3vBzwGVgCyCCBGADECiFkG+L4t8IyClWWAb0UeUxBhGuBLjQ9IRoRpgDv+DxAjgMbn/gNvymt86i88K0CMABofWQFaH/oLzzFA46XAX35nGWAiwIMoEMI7QAEEELMMcCiw9XSWAfYFHtLRWQaoxDLAM1sQRiGAmHcArgUhyzLAE1dDH0SBsyHLALsCL3znHYAtSIMVILYlgBYBxLZ97+cYoHEfusBKsAxwvzmaFYAsywCFPh7gGaASywCsgEfBWZBYgbsjCCBGADHvAAV4B2AFIMs7wKIeIM87QAEEECOAmHcAjgFiBR4b5B2gAO8AczyrR8jyDlCAd4B5zwqQmg9P6hGyvAMU4B1gnlgByPEO0Cbv+cM9QAEEECOAGAHEvAO0aaceIcs7QAHeAdqL/X263gEK8A4wswK02ILE2qSeIM07wEwAJBFAzDsAxwCxdlBPkEYAMe8ABRBAjABiBBDzDsBBWGzeqydI8w7Q9lwNRY53gGZ/d3r8A1q2dMM70lz2AAAAAElFTkSuQmCC\"/></div></div></div></td><td style=\"padding:1px;\"><div style=\"display:flex; align-items:left;\">\n",
       "      <div style=\"display:flex; flex-direction:column; align-items:center;\">\n",
       "      <div>1d_move_2p</div><div><img width=\"256\" height=\"256\" style=\"image-rendering:pixelated; object-fit:cover;\" src=\"data:image/png;base64,iVBORw0KGgoAAAANSUhEUgAAAIAAAACBCAIAAACHACU5AAADqUlEQVR4nO2dyXLbMAxAwTRt022Sdrr8ZD+nn1qn2Sz2oLFGNrWArWj4YfAOHsbWAcEjuEgcO8nl86vy+p9NomjElXUAajqR7tAYXuX4nU5kf+64/pNr6wBqyMfZ34uk0adpdAEHSAXMpbUXkM8XyOZABKT5j/LinxcPQcDDoXGiIR83FiRdMAQBSkJAK+YWNuOM00aeAYKAEmy6SwgCulHGV8cZmhuCgMkhKBUN4WVfMALmMptGr0wIAjTox6gLAyJgWOlPdvk0MyIRIAgY5gBNckPA9ixPwmNyCGjBi3UALSEIkEPXLof+kqiA7TlZhmo0cCAIkKlVJjzvAxABq2DFQARM7oTLWQEIQcBLzU0emhJ3AmgQBDwXAhwthAgC5ijzDiwUiADNY3dmHUAEjPGlgSDgadSeW+/T8j5AEFAFzQRBwBP76NUyBAGugQiInfCFQkt3CVPAXN5jI9aEB2RmlUAE9PAHnBKUAI8QBPyxDqAlBAFyfEB6gTgX1IT7mIRt2RXvlCdEaR1/gCnAEQQBPU5HIYKAnfp4KFASQYDUnM+lOYAI6Em8/K6CEqAE9T9Bgq06m3XbMJDNIQj4XXn9XYsgWkEQQPsOpioIAv6Bj9YBqEF9Y5aSzyJSP3AZ4bQCOHgU8EXkm3UMajwKEJEf1gGogQh4VF/ZbxdCwMY8rV9yRAjYmEf1I8meEGDMd+sA1IQAYyACqk6m3Il8bRTH9kAEaBiey98eNsMEOAL0t6M/NYxicyACag/HvW8SRQsgAqr4IPLWOgY1EAH3Fddev2sWRgMgAmp5ZR2AGogAfQUkublpGMjmQATsKlZBr9+0jGRrIAL0j7doX2bsS0AWSXKFesyKEqAchTgzsGAE1ML5MStUuWpI0gnpCCmkAmrPmHAqACKgpkd3nCWQYASIemWJyr6QBIiuDnoBMQQFStwJ6FdBUQGG7FE/assRoF4IcZIvQhJwAmertQxWwDKcKvAlYNgEcOrDl4CBqIAm6Pp1zlEBpnB6v4hLAVmiAswJAYbEHGBMCGhDVU5DwJmYS3QIaEIuGpNXcbIvMAHL0B5G9vAFTPZ3ThHwBQwckh5DUFABTUCeaWOhCVDCceNUAIcQYEwIMIYjgLnPWoUjwCkeBcTtaGM42RefAlCEAGNCgDEeBcQkHOgJAcagBCwMLJwx5wSUAI8ABax2dlQ1AAX4IgQYEwKMCQHGhABjQoAxHgXEMvTcoDJ+AlYAOeljsAK8EAKM+QuqjKEocc5WvQAAAABJRU5ErkJggg==\"/></div></div></div></td><td style=\"padding:1px;\"><div style=\"display:flex; align-items:left;\">\n",
       "      <div style=\"display:flex; flex-direction:column; align-items:center;\">\n",
       "      <div>1d_move_3p</div><div><img width=\"256\" height=\"256\" style=\"image-rendering:pixelated; object-fit:cover;\" src=\"data:image/png;base64,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\"/></div></div></div></td><td style=\"padding:1px;\"><div style=\"display:flex; align-items:left;\">\n",
       "      <div style=\"display:flex; flex-direction:column; align-items:center;\">\n",
       "      <div>1d_denoising_mc</div><div><img width=\"256\" height=\"256\" style=\"image-rendering:pixelated; object-fit:cover;\" src=\"data:image/png;base64,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\"/></div></div></div></td></tr></table>"
      ],
      "text/plain": [
       "<IPython.core.display.HTML object>"
      ]
     },
     "metadata": {},
     "output_type": "display_data"
    }
   ],
   "source": [
    "task_name = [task_list[int(jnp.squeeze(task_index))] for task_index in task_index]\n",
    "mediapy.show_images(state_rgb, titles=task_name, width=256, height=256)"
   ]
  }
 ],
 "metadata": {
  "kernelspec": {
   "display_name": "base",
   "language": "python",
   "name": "python3"
  },
  "language_info": {
   "codemirror_mode": {
    "name": "ipython",
    "version": 3
   },
   "file_extension": ".py",
   "mimetype": "text/x-python",
   "name": "python",
   "nbconvert_exporter": "python",
   "pygments_lexer": "ipython3",
   "version": "3.12.6"
  }
 },
 "nbformat": 4,
 "nbformat_minor": 2
}
