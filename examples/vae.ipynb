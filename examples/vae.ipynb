{
 "cells": [
  {
   "cell_type": "markdown",
   "metadata": {},
   "source": [
    "# Variational Autoencoder"
   ]
  },
  {
   "cell_type": "markdown",
   "metadata": {},
   "source": [
    "## Installation"
   ]
  },
  {
   "cell_type": "markdown",
   "metadata": {},
   "source": [
    "You will need Python 3.10 or later, and a working JAX installation. For example, you can install JAX with:"
   ]
  },
  {
   "cell_type": "code",
   "execution_count": null,
   "metadata": {},
   "outputs": [],
   "source": [
    "%pip install -U \"jax[cuda12]\""
   ]
  },
  {
   "cell_type": "markdown",
   "metadata": {},
   "source": [
    "Then, install CAX:"
   ]
  },
  {
   "cell_type": "code",
   "execution_count": null,
   "metadata": {},
   "outputs": [],
   "source": [
    "%pip install \"cax[examples] @ git+https://github.com/879f4cf7/cax.git\""
   ]
  },
  {
   "cell_type": "markdown",
   "metadata": {},
   "source": [
    "## Import"
   ]
  },
  {
   "cell_type": "code",
   "execution_count": 1,
   "metadata": {},
   "outputs": [],
   "source": [
    "import jax\n",
    "import jax.numpy as jnp\n",
    "import mediapy\n",
    "import optax\n",
    "from cax.nn.vae import VAE, vae_loss\n",
    "from datasets import load_dataset\n",
    "from flax import nnx\n",
    "from tqdm.auto import tqdm"
   ]
  },
  {
   "cell_type": "markdown",
   "metadata": {},
   "source": [
    "## Configuration"
   ]
  },
  {
   "cell_type": "code",
   "execution_count": null,
   "metadata": {},
   "outputs": [],
   "source": [
    "seed = 42\n",
    "\n",
    "spatial_dims = (28, 28)\n",
    "features = (1, 32, 32)\n",
    "latent_size = 8\n",
    "\n",
    "batch_size = 32\n",
    "learning_rate = 1e-2\n",
    "\n",
    "key = jax.random.key(seed)\n",
    "rngs = nnx.Rngs(seed)"
   ]
  },
  {
   "cell_type": "markdown",
   "metadata": {},
   "source": [
    "## Dataset"
   ]
  },
  {
   "cell_type": "code",
   "execution_count": 3,
   "metadata": {},
   "outputs": [
    {
     "data": {
      "text/html": [
       "<table class=\"show_images\" style=\"border-spacing:0px;\"><tr><td style=\"padding:1px;\"><img width=\"128\" height=\"128\" style=\"image-rendering:pixelated; object-fit:cover;\" src=\"data:image/png;base64,iVBORw0KGgoAAAANSUhEUgAAABwAAAAcCAIAAAD9b0jDAAAB7ElEQVR4nO2UP8hxURjAz0VKittd/CuLwSDKICWDDEbdE5OyyMZksTEpg0ky3AwmC2VQdyAKpQwGA5IMhJXrT7crx32H2/flfT/vHzJ93/ebTj3P+XWenvM8APzn70EsFhO/SCQS6XS6Wq1qtdpSqcTzPMuyyWTyNl/ymUiv10ulUofD4XQ6cRz3+Xy30dVqlc1mIYSHw2E4HLbb7dsodtdotVqbzaZSqbwbvV6voVDodDoBADabzXa7nU6n39dLEMRsNkPv6fV6NE2zLMswzPeKu5AkWSgUIpGIYBwMBnK5HABgMpkoinpSCgBQKBQYhlEUhRAKBAI/vyj6Irbf73meF4oNh8Mi0VfJjyGXy1utFkLI4/G8TAoAMBgMDMMsFotisRiNRjHs/p95GAjhbrcTmhaPxzUazWu8ZrO5Xq8L3nw+r9PpXuPFcTwYDF4uF4RQo9F4jVSA4ziEEMdxLpfrbsKns/8nFovF7/fbbDaJRAIAGI/HnU7n+acZjcZcLrder3+P7Pl8pmn6SZ1arY7FYvP5/HYJ9Pt9r9f7jE6lUrnd7tFo9GGnQAifGS2CIMrl8oct1e12SZKUyWQP6+x2e6VSWS6Xt7rj8ZhKpYQV9UPedR9CCCEUzpPJpFarIYQymcxut3v4gf8wb5vwG2+h9UGFAAAAAElFTkSuQmCC\"/></td><td style=\"padding:1px;\"><img width=\"128\" height=\"128\" style=\"image-rendering:pixelated; object-fit:cover;\" src=\"data:image/png;base64,iVBORw0KGgoAAAANSUhEUgAAABwAAAAcCAIAAAD9b0jDAAAB8ElEQVR4nO3Su4vqQBQHYMfCgKQTCyGW2i0EA2JAsEwRy8Q/RLDQSrSwsjCdVUAIVjaxsxAfQcHGdJYaRDGFD7ASzjFbhCt7110f64Xb7K+bmZOPkzPj8fzm/4bjOFVVEVFV1Vgs9g9ElmV3ux38yXa7fVWMx+PL5RIRAWC/39u2DQA8z/t8vp9wfr8/mUwuFgsAcNHJZCJJkrssFArXn3jvovV6vdfrMQxz2YnFYjRN9/t9j8fz9vb2NMpxnCiKhBBCyGAwyOVyhJDNZjOdThVF8Xq9hJC7bf2VjzfTbrdpmhZFMZ/PB4NBtwARj8fjE88gGo1qmoaItm2bpilJ0nWNO2JN0x4SKYrSdR0ADoeDIAiBQODjTD+hw+HwIZTnefevU6nUjbLn0NFohIjdbvd2meM4iGgYxqf9L24/nU6zLOs4jq7rt9Hz+ew4jmma99uUZRkA1ut1KBT6roaiqEqlgoidToem6UfR+Xx+QyyXywBgWZYgCPfFC1qr1b48ZVlW0zQAaLVaD3FuMpkMIlqWdX2UzWZ3ux0iNhqNJ8RLp6fTSVEUlmXD4bAsy7quW5aFiPP5vNlsJhKJn6BuVqvVbDa7LA3DKJVKz3FuGIYZj8eu4j5vALBt+7spP5pQKFQsFi9otVqNRCIvib95Me/8RUrNjUX6NgAAAABJRU5ErkJggg==\"/></td><td style=\"padding:1px;\"><img width=\"128\" height=\"128\" style=\"image-rendering:pixelated; object-fit:cover;\" src=\"data:image/png;base64,iVBORw0KGgoAAAANSUhEUgAAABwAAAAcCAIAAAD9b0jDAAABlklEQVR4nO3Ur6vCUBQH8HMPY2BRFOQGRVgQ20wGDSIMRGxaZ1bw3zAJZpNJk02TwWRzOKMLKoJDQdtAUATZXhDU54/r3jC9975p9+zuc8/gcAH+8/sjSdJms4lEInd1vF0kk8lcLmcfjcViqqo+1r+hqVQqn8/bFBFREIRQKEQIYe2bz+etVssmGggETNNsNptvOkXExx2v0mg0AGA2m7FQURQppfZRj8cDAP1+n4Vms1mXy2VTpJQKggAA6/WahZ4nYzKZ2EFrtRqldDqd7na7x7fc3Xo0GjEst9udyWQKhUI6nQaASqViGMZ71OfzXZ6j0SgiSpIUDAZ5npdlGREPh4OiKMfjkeO48Xj89OzriNXr9VKpZBiGruvniiiKhJDT6bTf7zVNUxRFVdXBYLDdblerldfr5Xn+KXrttFwuL5fLRCJxqei63u12NU0bDoe33xSLRb/fv1gsnooO0263TdOsVquvNvxg2u/S6XQ+jzLiECWEhMPhD6OWZTEuCue/H4/HP4yy71AnaK/XsyzLWTd/IV/VrISFLCLl1wAAAABJRU5ErkJggg==\"/></td><td style=\"padding:1px;\"><img width=\"128\" height=\"128\" style=\"image-rendering:pixelated; object-fit:cover;\" src=\"data:image/png;base64,iVBORw0KGgoAAAANSUhEUgAAABwAAAAcCAIAAAD9b0jDAAABKElEQVR4nO3UoYrDQBAG4KGmFYWYQOSuq80DhLSEPEBtTIjsQ5Q8QXxERV4gD1ATEShxUTERiVvVRkQUKoZhTyyFg1PXzplyv979dmB/BuA/n5zj8UhEWuvtdssjJklyv98RkYh83/95YPECKoRYLpdvz/YtYRhO04SIXdcJIVar1bui53lKKURExDiOOYYEOJ1OREREVVXxiLZtExEi3m63IAgYRCll27YGTdOUQQSAw+FgOnQ+ny3LYhD3+/08z4hY17XjOAyilJKeKYqCQQSAPM/xmc1mwyC6rjuOoxHLsmQQAeB6vRrxcrms12se1HQIEaMo4hGLotBamy8SQjCIrusqpYjo8XhkWcawOABgt9uZtg/D8Nu7r+zT19G+75um+YsnPz5fGjKxvq7r4c4AAAAASUVORK5CYII=\"/></td><td style=\"padding:1px;\"><img width=\"128\" height=\"128\" style=\"image-rendering:pixelated; object-fit:cover;\" src=\"data:image/png;base64,iVBORw0KGgoAAAANSUhEUgAAABwAAAAcCAIAAAD9b0jDAAABk0lEQVR4nO3Ur6vCUBQH8DkUFGVYHCaLS/sHrhbBtKTGFYP/gEEQbAPBZBF0f4SaltQyEcRgXRFtaphgUhCD5+ALh2d5IPfKeMlvuwfu5x7uL0n65pv/D2PMtm3P8xARERuNhmmatm0zxj4UTdM8nU4AgIiu63qeBwA0HA6Hwlw4HM7n89frFQDm83mxWIxEIolEYjKZENpsNoXRWq1GTU2nU0VRqFitVqm43+9TqZSY2Ol0EBEA+v3+S5QkabPZEFqpVMREy7IQ8X6/O44Ti8WoGI1Gy+Xy7XZDxHa7LSYmk0k6GcdxXkVN09brNfU4Go3i8bgYqqoqTc5kMqqqtlqt1Wp1uVxoNx6PR6lUEhOpU9/36XzhN4fD4Xg8AoDv+8IihTF2Pp8RcbvddrtdXdfT6fRisQCAXq/3Ifo3hULh+XwiYr1eDww1DIN2Q/huvg8/KnOKhmHwL8+LZrPZ4NHlcinLcigU4qe5stvtACCXywWJ0qfluq6u64GhiqLMZjMAGI/Hwm//vTsYDAAgyGY58wOibf6AWXkq6wAAAABJRU5ErkJggg==\"/></td><td style=\"padding:1px;\"><img width=\"128\" height=\"128\" style=\"image-rendering:pixelated; object-fit:cover;\" src=\"data:image/png;base64,iVBORw0KGgoAAAANSUhEUgAAABwAAAAcCAIAAAD9b0jDAAACI0lEQVR4nO2Uv+txURzHj8ev8pvCJAllMVAsLJQiJYuwWSgGExvKxGKxsLDYyMId5A9ASZSFUtS9RZbb9SPRuXmG2yP1jS+e5Xnq+5rOvfec131/zr2fA8AP/wW0t2bz+Xwej+d2u2UyWaFQOJ/Pf/VylUpVKpUmkwn8Q7FY/Fyn0+nK5fLhcIAQkiS5Wq2m0ymEcLPZ6HS6t3VCobBcLuM4fks3m82USqVWq6UurVbr29JQKATvmM/nCoUCAPCt9NcTqc/nowar1arRaDgcDhRFAQDfVs148iwcDkcikW63u1gsttvt7b5cLn8u/YRKpfK8/GdJ74nH41wul0ajXa9XvV4PAOj1ev1+/5NQHA7HZDK1222SJEmSvF6v1ADDMLVa/baOyWSazWYURSGE+/0ew7B6vb7b7ajC1+t1MplksVhvGFkslsfjodan02mLxQIAkEgk9x0FIfT7/Ww2+9WMuVyOWoYgiEgkAgBIpdLhcEiS5Ol0ymazzWaTmtDpdOx2u8FgMBgMD410Oj2fz0MICYKIxWJisRgAYDKZBoMB1VE2mw0AIBAInE5nrVYjCIKyL5fLh9JoNAoh3O12gUBAIpG4XK56vU41fiaToTrqnmAwiCAIgiBarfahdL1eQwiPx+NoNJrNZrftS6VSdDr9pe37yng8vv8UrVYrkUhoNBoG49U/Gnw9pPl8vtfrNRqN2+22Wq3iOH65XD4M+MO/zm/rjlZeqOP2ZwAAAABJRU5ErkJggg==\"/></td><td style=\"padding:1px;\"><img width=\"128\" height=\"128\" style=\"image-rendering:pixelated; object-fit:cover;\" src=\"data:image/png;base64,iVBORw0KGgoAAAANSUhEUgAAABwAAAAcCAIAAAD9b0jDAAAA4UlEQVR4nO2RLQ6EMBBGW7IKxQmABIdBYbHcBMUVOASOcByuQPgJDk2QuJnOCjZImCaTYPZTI15fp/2U+ueV1HVNRH3fB0EgYwzDcN93RASAPM85R5xHYtu2ruus9niWHsexrquw1PO8JEmEpa7r+r5/zmmainVVVdVZFACUZSkjVUpZSZ+f/+McR2uttebAH6bUGENE3A2YnFVelV5/mmWZ2OVX+wAQx/HDBkxp0zTXXBSFjHSeZyZpl2VZEBERiSiKohvSov1hGIiIiIwx96SFtG1bJmkhHcdxmiY+/49kvjUxasl01AsRAAAAAElFTkSuQmCC\"/></td><td style=\"padding:1px;\"><img width=\"128\" height=\"128\" style=\"image-rendering:pixelated; object-fit:cover;\" src=\"data:image/png;base64,iVBORw0KGgoAAAANSUhEUgAAABwAAAAcCAIAAAD9b0jDAAAB4UlEQVR4nO2UMa/BUBTHbwVlqTBZmpgs1YFNECSkCT6ARC0MjcHuO9gsjUE/ARIGIiLxASSasFhEEAODpB1KcqVvuEmfV9X3+saX95vuPe393/859+QA8M8fIRgMUhRVq9VUVX18pd/vO51Oa3IURTWbzd1ut9/vIYSPxwO+IAgCQRAWRIfD4fN5Q1EIYSwW0x20m4hOp9NcLgcAOJ/PgiBgGKaqKgAgGo0mk0lrWX9eaLeTJEmSpN/vf44TBIEKAiHsdrs4jltwCiE8HA6vcYZhvF4vWh+Px/v9/kvXGsVicTabaQW19kqvlEql9XqtKIqmuFgs3G73659m6QcCgXK5nMlk0DYej6OHAgBIktRoNEajkaIoFnzRNL3dbt+11GAwMDlrM/mGfcVms2nrQqGAus2Qt+mvVqtUKsWy7GQyud1uWrxardbrddMkrePxeFAFTJyapW8IwzC/8eJwOPL5vGGvVCoVSZK+daonkUiMx2MIIUmSz3Gfz8ey7PV6RYqyLKfT6XcimG4vimIoFAIA8Dwvy7IWz2azkUgE9el8Pud5vtfr/dSpKIqG8w316el0arfbLpfrp3KIcDjc6XR0cpvNZrlctlotmqatyWngOM5x3OVyQZON4zjd6PvHnA+P6FdO5na6vgAAAABJRU5ErkJggg==\"/></td></tr></table>"
      ],
      "text/plain": [
       "<IPython.core.display.HTML object>"
      ]
     },
     "metadata": {},
     "output_type": "display_data"
    }
   ],
   "source": [
    "ds = load_dataset(\"ylecun/mnist\")\n",
    "\n",
    "image_train = jnp.expand_dims(jnp.array(ds[\"train\"][\"image\"], dtype=jnp.float32) / 255, axis=-1)\n",
    "image_test = jnp.expand_dims(jnp.array(ds[\"test\"][\"image\"], dtype=jnp.float32) / 255, axis=-1)\n",
    "\n",
    "mediapy.show_images(ds[\"train\"][\"image\"][:8], width=128, height=128)"
   ]
  },
  {
   "cell_type": "markdown",
   "metadata": {},
   "source": [
    "## Model"
   ]
  },
  {
   "cell_type": "code",
   "execution_count": 4,
   "metadata": {},
   "outputs": [],
   "source": [
    "vae = VAE(spatial_dims, features, latent_size, rngs)"
   ]
  },
  {
   "cell_type": "code",
   "execution_count": 5,
   "metadata": {},
   "outputs": [
    {
     "name": "stdout",
     "output_type": "stream",
     "text": [
      "Number of params: 2518513\n"
     ]
    }
   ],
   "source": [
    "params = nnx.state(vae, nnx.Param)\n",
    "print(\"Number of params:\", jax.tree.reduce(lambda x, y: x + y.size, params, 0))"
   ]
  },
  {
   "cell_type": "markdown",
   "metadata": {},
   "source": [
    "## Train"
   ]
  },
  {
   "cell_type": "markdown",
   "metadata": {},
   "source": [
    "### Optimizer"
   ]
  },
  {
   "cell_type": "code",
   "execution_count": 6,
   "metadata": {},
   "outputs": [],
   "source": [
    "lr_sched = optax.linear_schedule(init_value=learning_rate, end_value=0.01 * learning_rate, transition_steps=8_192)\n",
    "\n",
    "optimizer = optax.chain(\n",
    "\toptax.clip_by_global_norm(1.0),\n",
    "\toptax.adam(learning_rate=lr_sched),\n",
    ")\n",
    "optimizer = nnx.Optimizer(vae, optimizer)"
   ]
  },
  {
   "cell_type": "markdown",
   "metadata": {},
   "source": [
    "### Loss"
   ]
  },
  {
   "cell_type": "code",
   "execution_count": 7,
   "metadata": {},
   "outputs": [],
   "source": [
    "@nnx.jit\n",
    "def loss_fn(vae, image):\n",
    "\timage_recon, mean, logvar = vae(image)\n",
    "\treturn vae_loss(image_recon, image, mean, logvar)"
   ]
  },
  {
   "cell_type": "markdown",
   "metadata": {},
   "source": [
    "### Train step"
   ]
  },
  {
   "cell_type": "code",
   "execution_count": 8,
   "metadata": {},
   "outputs": [],
   "source": [
    "@nnx.jit\n",
    "def train_step(vae, optimizer, key):\n",
    "\timage_index = jax.random.choice(key, image_train.shape[0], shape=(batch_size,))\n",
    "\timage = image_train[image_index]\n",
    "\n",
    "\tloss, grad = nnx.value_and_grad(loss_fn)(vae, image)\n",
    "\toptimizer.update(grad)\n",
    "\n",
    "\treturn loss"
   ]
  },
  {
   "cell_type": "markdown",
   "metadata": {},
   "source": [
    "### Main loop"
   ]
  },
  {
   "cell_type": "code",
   "execution_count": null,
   "metadata": {},
   "outputs": [],
   "source": [
    "num_train_steps = 8_192\n",
    "print_interval = 128\n",
    "\n",
    "pbar = tqdm(range(num_train_steps), desc=\"Training\", unit=\"train_step\")\n",
    "losses = []\n",
    "\n",
    "for i in pbar:\n",
    "\tkey, subkey = jax.random.split(key)\n",
    "\tloss = train_step(vae, optimizer, subkey)\n",
    "\tlosses.append(loss)\n",
    "\n",
    "\tif i % print_interval == 0 or i == num_train_steps - 1:\n",
    "\t\tavg_loss = sum(losses[-print_interval:]) / len(losses[-print_interval:])\n",
    "\t\tpbar.set_postfix({\"Average Loss\": f\"{avg_loss:.6f}\"})"
   ]
  },
  {
   "cell_type": "markdown",
   "metadata": {},
   "source": [
    "## Visualize"
   ]
  },
  {
   "cell_type": "code",
   "execution_count": 25,
   "metadata": {},
   "outputs": [
    {
     "data": {
      "text/html": [
       "<table class=\"show_images\" style=\"border-spacing:0px;\"><tr><td style=\"padding:1px;\"><img width=\"128\" height=\"128\" style=\"image-rendering:pixelated; object-fit:cover;\" src=\"data:image/png;base64,iVBORw0KGgoAAAANSUhEUgAAABwAAAAcCAIAAAD9b0jDAAADE0lEQVR4nO2VT0vjQBjGM3+SjKm2aZNILa1Y0GpFLz2ICF4U8U+/gEeP+ln8AnoXFKoUehG8ewkIelCRHqumVFIlpkkbO5k9dClu16Yu7GnZ5xbemV/e93kmE477r39cAIC+pT8FAQBkWU6n04Ig3NzcOI7z+zLc8wwh5DiOMQYhRAhxHDc0NCSKoizLyWQSQjg7O7u8vJzJZBhjW1tbg6EY43g8rqqqLMsLCwu5XA4hpGkaY8zzPEVRPj4+VFVVVVWSJMMwGGNfDvQLNBKJ5PP53d3dRCJBCCGEUEoBAM1m07Isz/MEQSCEhEIhAEC1WnVddwAUAIAxjkaj4XAYAGCaZqVSqVQqpVIJABCLxRzHURRlbW1tZWUFAHBxcdFoNAZAGWOmaZ6enlqWtbi4eHR0pOu6bdvtdrtr9/j4+PT0NMdxjuMUi8VuaYAIIZqmhUKhL6tLS0t3d3ee5x0cHBBC+kF60282m61W68sEAAD5fF7TtFqtViqVEEIYY9/3fd/vWQl/39wv02QyubOzQwh5fHyMx+Nzc3PpdDoSiSCEej6E3k57WgMAQAghhISQvb09TdNarZbv+/Pz84Ig1Ov1Wq12f3/vuq5t292W+0IBAKIoxmKxVCqVSqU2Nze3t7d5nrdt2zTNl5cXVVWz2Wy9Xh8eHjYM4+HhodFodKYM6hRjnEwmV1dXNzY2crmcJElvb29XV1fFYrFcLmezWUEQrq+vLcuilEqS5Hme53kDoIwxnuenpqYmJycRQpZlHR8f7+/vPz8/M8Z0XSeEdNxECHVsCaD9FM/zMzMzZ2dnr6+v9Xq9UCgkEomeTDqmC4KAMe6Wvki/K0opQiiVSoXDYUrp4eFhtVrtORuMMd/3GWOdVH/6Fjx+56KilJ6fn+u63m/Adrv9eYIBQa2vr/M8//T0dHJyYtt2wOu5Twc8CDoyMpLJZAzDKBQKl5eXwTl8tiXIU4TQ+/s7xnhsbGx0dLRzf39HQes8z7u9va1UKqIoKorS8fc7CvpHQQij0ejExITv++Vy2XVdSuk3uX9fPwD0XF22Ikv+bAAAAABJRU5ErkJggg==\"/></td><td style=\"padding:1px;\"><img width=\"128\" height=\"128\" style=\"image-rendering:pixelated; object-fit:cover;\" src=\"data:image/png;base64,iVBORw0KGgoAAAANSUhEUgAAABwAAAAcCAIAAAD9b0jDAAADCklEQVR4nO2US0vrQBiGZ5JMLk2kIV7Aa1GwWrCLIrpRUNKVomTvzl/gr/AHCLoWBC+gLkR05UoRdJVFpbRQ1LbaEiMNJpo0TTs5i4KcS1vLOZzVOe9imMW8D9/3zswHwH/9u4LtHCJJEiFUXxmGGR0dDQaDoigGg8H7+/tEIqHreqVS+TxPtWYFAoFIJDI1NRWLxSKRyMDAAMMwHMdRFFWpVDzPy2azGxsbp6ennuf5vv8FlCCIoaGhlZWVpaWl/v5+nud5ngcAYIyr1SpJkhjjcrl8e3urqqpt25/Epu1DCIeHh9fX12VZZhjGtm3LskiSzOfzpVIJIRQKhVKpVDqd3tvbe3h4cF33B3tDqCiKW1tbiqKQJKlp2snJye7u7uvra61WGxwcXF1dBQCcnZ1dXFxYlvV9jU3bRwgpihKPx1mW1TTt/Px8c3Mzl8sBACiK6urqymQymUzm6urKNM3G0f0apSRJ8/PzPM+7rnt5ebm9vf3x8SEIAsdxoijGYrGJiQmCICzLakhsUCmEUJIkSZIcx3l/f0+n0yzLhsNhCKGu66IozszMIITu7u5+yrEVtFarFYvF6+trQRBM0/R9f3x8XBRFTdP6+vqWl5fn5uaenp6KxeKvUTaFAgBM0zw8PFRVVRAEhmEMw3h8fLQsa3FxcXZ2tqOj4+XlxXGcZsTGUIxxPp83DAMhBCHEGLuuCyGMRqOdnZ00TadSqe//T1tQAEC1Wn17e6vvCYIAACCEuru7aZr2fV9V1Ra9N4UCAD5tGGMIIcuy09PTEELHcZLJJMa4BfTnJ9WQTlFUNBoNh8P1aywUCq0tX0MJghAEYWFhYWRkhKKoZDJpGMaXrlaCEPI8ryhKIpGoVqulUmlychLCtgZmUyLHcfF4/ObmxvM8z/P29/c5jvujMjmOk2X56OioPjWy2awsy/XH8JsiSXJsbGxnZ+f5+dlxHF3X19bWBEFox9tqSAcCgZ6eHpqmdV0/Pj4+ODiwbbsdaNPIIYQMw4RCod7e3kKhkMvlyuVyO8S/pW+1ZmEHatNcGgAAAABJRU5ErkJggg==\"/></td><td style=\"padding:1px;\"><img width=\"128\" height=\"128\" style=\"image-rendering:pixelated; object-fit:cover;\" src=\"data:image/png;base64,iVBORw0KGgoAAAANSUhEUgAAABwAAAAcCAIAAAD9b0jDAAADGklEQVR4nO2UzUvjWhjGk5MP22g1pk1taVQqbcWVKF2o1E0RpG5ciu4EwT/CveAfIOKuuG9VVKRuuqroQnBZRYVYNbYSLTXfJx+zyL0yzHSmudzFvYt5VsnhPL/zvOc9vAjyR/83oSjaZtGj05X77TgOiqI4jicSib6+Pp7nRVHUNM1xHHc/3pEIAGAYJplMmqb5/PysaZqmaSRJjo2Nra6usixbKBSOjo5UVf2ydIACAKLR6MrKSiaTqVQqhUJBkiTTNBmGWVhYSKfTFEXZtq0oyveu30FRFI3H49vb26Ojo4Ig3N/fN5tNRVEcxyEIYnx8PB6Pv7y8XFxcQAg7VvyXuru7T09PDcOo1+sbGxuBQAAA4N7m9PT0w8ODqqqHh4d+v98rEQCwubmpaZokSVtbWxRFffWKJMl8Pq/ruiiKc3NzAABPRBRF0+m0KIqGYZRKpXA4/NV6DMOy2azb68vLS5qm276qNgoGg5VKBULI8/zExASGYW5MgiA4jiuXy47jKIqytrZGkqQnIo7jy8vLgiBIkrS7uxsKhUiS7Orq8vv9qVRqZ2en1WqpqlosFjmOwzCsDeHnJZqms9ksQRCKokAIJycndV2PRCI0Tc/MzCwuLlIU1Wg0zs7OPj4+bNvuDMUwjOO4aDRqmiaCILlcbn5+XpIkAACO4yRJ9vb26rp+fHxcKpUMw2hf6w//juM0m82TkxOfzxcMBgmCwHEcQvj29jY4OBiJRBAEEQRhf3+/Xq9bluUV2mg0isXi+fl5LBYbGBgYGRm5u7tzHGd9fZ0gCFmW9/b2qtXqP3jwCIK4Xfb5fD09PQzDxGKxcDicy+V4nocQ3t7eJpPJtv35ZVI3LIQQQoiiqCzLrVYrEAhkMplQKGRZVrlcrtVqvyrcqwAAQ0NDV1dXEMJarTY8PNzZ4gW6tLSUSqV0Xc/n809PT/8qoyuWZa+vr23bfn9/n52d9WLpnDSRSLAsCyGsVqs3NzdeoJ2HtGVZr6+vkiQdHBzIsuwF2mHAAAD6+/unpqY+Pz8fHx8FQdB13QvXw8l/T9L/Ut8AGfVuSempymMAAAAASUVORK5CYII=\"/></td><td style=\"padding:1px;\"><img width=\"128\" height=\"128\" style=\"image-rendering:pixelated; object-fit:cover;\" src=\"data:image/png;base64,iVBORw0KGgoAAAANSUhEUgAAABwAAAAcCAIAAAD9b0jDAAADj0lEQVR4nO2VXUsqWxjH592XmVF0dMLGybQkKii8MSEKCspAooso6aI+QN+hL9BtHyKIwqSL6qqLiiAlhspeIEWJQLMSX+ZVZ2ZfxDl02lP7uNk3B85ztS7W+vH/P+v5rwUA/9efLrC93SD4caFp2m9CYRgmSTIYDE5PTwcCgYGBAYIg7u7uMpnM4eHh9fW1KIqqquq6/q90IQjicDiWlpYSiUQ+n5ckSZZlXddVVW00Gjc3Nzs7OwsLC263G0GQv00AAIB8ZRNF0UAgsLq6Go/HbTYbDMMIgvA8L8vyOxqG4UAgMDIywnFctVpttVq/gEIQ5PP51tbWYrEYQRCSJOVyOY7j0uk0QRD9/f3Dw8MkScqy/PLyUqvVVFX9h0VDqNlsnpubi0ajKIoWi8VkMrm1tXV1daVpmtvtjkajfX19Tqfz+fn5XeYnKGTo3W63h0IhkiQVRTk/P08mk5lMRhAETdM6OztnZmY8Hg/P8/v7+ycnJ5Ikfb4MQ6jD4fD5fCAIKopSLpd5ntd13W630zS9vLwcCoV0XT86Otrc3OR5/meCAVTX9be3t9vbW5ZlRVF0uVyhUMhkMjEMEw6HJyYmWq3W6enpxsZGqVQynCSDOQVBkCTJqamp+fn5jo4ODMNqtZogCF6vl2EYk8l0cXGxvr6eTqfr9frPx79UKori8fFxtVodHBwcGhpiWXZ0dJSiKAiCBEEolUrZbFYURUMiYHhRAACoqlqpVDiOS6VSlUrFarWSJIlhmK7rPM8XCoXv82MMBf5KN4qiLMtSFNVoNKrVKs/zVqt1cnKSYZi2oSAIQhCE4zjLsjRNgyD49PTEcVw+n0cQxO/3RyIRi8XyMZof68tEYRjm9XrD4bDZbL6/v9/b25NleWVlJRgMEgTR09MDw/BXSo2hOI7TND0+Ph6JRCAIOjs7S6fTDofjPTkIggAA8E1bje03m02KosbGxlwuV7FYLBQKiqLgOO7z+VAUlSTp4eHh/VlpQ6mmad3d3X6/32KxUBQVDochCIrH411dXaqq5nK5y8vLT3n/NRSGYRzHMQyz2Wy9vb0Mw8RiMY/Ho2lauVxOJBIcx7UNVVX18fHx9fWVpmkMw5xOJwiCgiCkUqlEIrG9vV2v17/pqfFMQBDkdDoXFxdnZ2dpmqZpulgsHhwc7O7uZrNZnudbrVbbUAAAQBB8n1YMw2AYbjabiqJ89dP9Z+sHFNitTtJDzPMAAAAASUVORK5CYII=\"/></td><td style=\"padding:1px;\"><img width=\"128\" height=\"128\" style=\"image-rendering:pixelated; object-fit:cover;\" src=\"data:image/png;base64,iVBORw0KGgoAAAANSUhEUgAAABwAAAAcCAIAAAD9b0jDAAAEGElEQVR4nO2Vy0tqXxTHz97Ho+f44PhAM0PNF+ggQelBGRG9JgphXchJNO4vahw0qVHDwBCJIDAIhSJLE3xkpvg6evKo5/EbHLh0y273/ka/wW9NN+uzv3t911obQf6PfxUQwq+OwJ/kAwAghAAAgiBQFIUQQggxDOt0Or1ej+O4v4ACAFAUlUqlJpNpbm7ObDaPj4/r9XqlUlkul5+fn6PRaCaToSiKZVkEQQRBEBMlvyHiOK7T6RYWFra3t/1+P0mS4h0cx1EUVSgULBZLNBqNx+P1ep3n+Z+5X0IxDJuYmNjb24tEIiaTSSqV8jxPUdRgMBgOhxBCnU4XCAQwDMtms61W63sohFCj0ezv7+/u7qrVakEQarVaPp9/enoiCMJoNE5OThoMhn6/z3EcwzAA/FLG0VCZTLa+vv7jxw+NRsOybCqVOjw8vLi46HQ6ZrM5EolYLBYcx2u12v39fb1eFwThZ0FHB4RwdnY2lUrxPN/r9c7Pz8PhsMFgIAhCoVB4PJ7j4+Nms9loNE5OThwOh0TyUdmIXiMIYnNz0+l0AgCy2ezBwUEikaAoCgCgUql8Pt/U1BSCIOl0+ujoqFQqidb/7vkAAL1ev7KyguM4y7LJZPL29rbT6UAItVqtz+cLhUIoitbr9WQyeXl5ORgMPsv6CJVIJD6fz2azAQAGg0GlUhEEAcMwpVLp9/tDoZDL5aJpOp/Px+Pxdrs9spS/QAEA4vBgGMbzPMuyTqdzZmZmOBw6nc6lpSWz2UyS5HA4zGQyhUJhhCEjlQqCUCwWm82mTCZDUXR6ehrDMK1WazAYFAqFIAgAAJ7ncRyXyWRSqZRhmM9iPxolCALDMKVSiaZpBEEwDDMajVqtFsdxAADDMBzHEQRhs9k8Ho9arUZR9EOTflQq3klR1OnpaavV8nq9KIqqVCqe57vdbrvdfn191ev1VquVJMmNjY10Ot1utz+LHfH8brd7d3enUqlwHB8bGyMIgiCIcrl8fX2dTqeVSuX8/Lzf7/f7/eFw+PHxsVqtvp/R0dB+v18sFmmapihqdXXV7XY3m81YLBaLxcRqkiS5uLgol8u9Xq9ara5Wq98b9fb2lsvlKpUKTdPVanVra0tsr2azWalUvF6vy+USjSJJUqFQfN7WI6Acx3Ecx/N8Npt9eXlptVo7OzvBYFClUuVyuWAwaLfbAQAsy3Y6HQRBxP39vqxfrj6WZQVB4Hm+UCjUajWHwxEIBNbW1sQ1iGFYvV5/eHigaVrs7vfQb74TCKFSqXQ4HD6fb3l52ev14jiOIAjDMDc3N2dnZ1dXV41Go9frvffqj/4oiUQil8sVCoXdbne73VardTAYJBKJbDZLUVS32+33+3+h9LNwqVQql8uHw6EIAgCIBnyzT/+j8Q9B9hIEMAEHswAAAABJRU5ErkJggg==\"/></td><td style=\"padding:1px;\"><img width=\"128\" height=\"128\" style=\"image-rendering:pixelated; object-fit:cover;\" src=\"data:image/png;base64,iVBORw0KGgoAAAANSUhEUgAAABwAAAAcCAIAAAD9b0jDAAADT0lEQVR4nO2Vy0rzahSGs5I0TXqwRdGkRfGUFgcOrA5KHYpj78GL8Hq8AEFQwSvQgYgWFUQiVGtPwTa1tkma5jvkH3zsIv1b9y97TzbsNQvJ92St932zwnH/13+i4McHACRJCoVCg8EAYxwEwT+CCoKQSCQymcz29nalUrm6uqrX64SQ358UR655nuc4LggCAGB9hcNhRVFisVihUNjd3c3n8xjj09PTYrE4ts1RKM/zsiyLohgOh1VVXVpa0jQtl8vpui5J0urqaiKRiMVi/X4/n88fHh5SSv8IGo/HC4XC/v5+KpVKp9PsHTzPe54XiUQkSWKjAMBgMJgk1Ch0bm5uZ2dnc3NTlmWe5wGg2+3att1sNmdmZjRNSyaTQRC8vLz0er2JUAAYSkMI6Xa7rusKgoAQent7e3p6Ojk5eX5+BoBcLndwcKAoim3bl5eXvu9PhH4VOwgC13Uty6pWq4ZhHB0d3dzcNJtNQogkSVNTU9PT05Ik2bZ9f38/1vcx41NKPz8/z87O6vV6sVisVCoIIUIIAAiCsLW1FY1GKaWlUolNw4z6PQOjkcIYm6Z5fX2tKEoymeR5nlIaj8c1Tdvb21MUhVLa7XbT6TQhxHVdz/Nc18UYf03CKJQp0Gq1crnc+vp6v9/3PG9hYSGfz6+srBBCCCHRaHRtbS2dTgPAx8fH4+Njp9OxbXsoyBgoxtjzvE6ns7i4qOu6pmmZTCabzaqqGgqF2u323d2dJEnLy8uyLHc6HYzx6+ur53mUUibFKJQp6/t+qVSilFJKVVUFAFEUBUEAAMdxDMPgOA4hJIri+/s7ISQSiYiiOMzDGCjjuq5bLpcRQqZpbmxszM/Pp1IpjPHt7e3FxYXjOAghNhYAUEoHg8HQsYlQ3/eZ0Y1GQ5Zl5rVpmsfHx9Vqld3l/toSjDvRqK/iIoQwxqwXRVEAgBDCYvs1pEEQjKSKnwQdHiCEUEodx/E8z7KsVquFMf7+1N9AOY4DAN/32R7o9Xq1Wm3ScvoBVBAEWZZDoRCb+ptP/gdQjuMsy2o2m+12u1arxWIxtr+/qYlGDQshZBjG+fm5rusPDw9Mh0k7n9Uf/aMURclms7Ozs41Go1wuO47zL0BZErlx6RlbvwAbmAuWZulGBwAAAABJRU5ErkJggg==\"/></td><td style=\"padding:1px;\"><img width=\"128\" height=\"128\" style=\"image-rendering:pixelated; object-fit:cover;\" src=\"data:image/png;base64,iVBORw0KGgoAAAANSUhEUgAAABwAAAAcCAIAAAD9b0jDAAADEElEQVR4nO2Uv0sjQRTHZ2ZnN/tDjdmIS1aTSMRGVAIawUYkEcEgIkrAf0DBwsLG0iK1hSI2giA24o9SLAyChUYULRIlpBFWthAWf2Qxbkh2170id+G4MyZ6XHPctxqGeZ/5vnnvDQD/9a8JQlhaIIQwxqWdX09WiWNZtqWlxe/3BwKBrq4uXdfPzs6Ojo6ur681TdN13bKs0nlckcgwTFNT09TUVDgcFkURY2xZVi6Xo2m6s7MzlUptbW3d3t7m8/lqoSRJzszMTE9PNzc3G4Zxc3OTTqdTqZSmaaZpjo2NDQwMpNNpSZJ+jqoA7e3tnZ+fr6urUxRlb29vZWVFURTTNCmK8nq94XDYsqziBRUz/i5BEK6urmRZ3tnZ8fl8JEkihAAAEEKGYWZnZ7e3t8fHx1mWrZaIEFpbW7u/v19fX29sbCwWGkIIIbTZbJFIJJFILC8v19fX/94DZdN3uVzBYNA0zfPz83w+TxAEQsjhcNhstlAoFI1Gs9ns/v6+qqo/1/0jKEIoEAhQFPX6+ur1evv6+gAAoii2tbU5nc7+/n6e52Ox2Onp6e/EslCMscfjQQjxPD8xMTE0NCRJkt1uVxTF5/O53e7n5+doNKpp2vue3t2FECaTyXg8ns1mBUEQRZEgiIuLi83NzZeXFwDA4eGhLMtlXq6MU8Mwksnk0tJSJBLp7u4+Pj7e3d3Vdb22tra9vR1jfHBw8Ik2KokgCI7jXC6X3+93OBw1NTWCIAwPDz88PNzd3fE8/0Fs2eq/vb3lcrlCoaCqanG0KYqanJzkOO7y8jKTyXzaZkkIIfKHenp6np6eNE0bHR39OhEAQBAESZIEQWCM5+bmLMuSJImm6a8TIYQ0TXMcx7Ks0+mMx+OGYYyMjFQM/OhDwRg3NDS43W6apgcHB0VRTCQSsVjsj6Asy3Z0dIRCoWAw2NraKsvywsJCoVCoCC0rCKHH49nY2MhkMsUeWFxctNvt1cS+P1EAgOL3zjAMRVGGYZycnKyurhbHqbKhj81yHCeKoqqqj4+PhmFUQ/xb+gb8lD0bGeXW1AAAAABJRU5ErkJggg==\"/></td><td style=\"padding:1px;\"><img width=\"128\" height=\"128\" style=\"image-rendering:pixelated; object-fit:cover;\" src=\"data:image/png;base64,iVBORw0KGgoAAAANSUhEUgAAABwAAAAcCAIAAAD9b0jDAAADFklEQVR4nOWVPU8yTRSGdz4X14VNZkWRjwISIxorE4yJCYW9MRb2tpb+Av0XJnZ2Nv4GYwwWBAs1JhaaEAERFhCZ/WbZfQq611VfLJ/nrudcue85M+cIwt8sAMAPB/4/ixCSyWSWlpYIIdVqtdlsdjqd0Wj0e2uqqh4dHd3f3zcajXq9XiqV9vb2GGM/ug4XhDCVSh0fH7daLc65YRi2bbfb7dPT09nZ2VAo/hGqqurh4eHu7i5CqFarBUEQj8cJIYuLizMzM51OJwiC//r4nogx3t/f39raghBeXFwcHBycnJw8Pz8Ph0OEUCwWm9gpAIAxViwWMca9Xu/6+rpWq0WjUdu2JUlijFFKJ4YihAqFQi6X6/f7pVLp5uaGc/7+/q7ruu/7pmm+vr76vv+58Lv4kUhkc3PT931d18vl8svLi23bqVRqbW2NUlqpVDRNmwwKAEgkEvl83rKsarX68PDguq6qqtvb24wx0zTPzs4sywqt/TI+hBAhdHd3p+v61dVVvV4f21xZWYEQfnx8NBoNz/MmgyKEMMa3t7eGYWiaRghhjG1sbMRiMc55uVzudrufH9N3UAAAhFCWZYzx29sbIaRYLGYymZ2dHcaYZVmVSqXX600GhRBSSjHGsiyLojg/P7++vp7P55PJpCAIT09Pl5eXX2UXvmoUpXRubq5QKGSzWVmWY7FYNBpVVTUSifi+P54AX9kMdwoAEEUxl8utrq5KkjQYDGRZVhQlCALHcTRNa7VakiRhjIfDYSg6PD4hBGOcTqcTiYRlWZFIBGPseZ5pmoZhUErT6XSn0+Gch15CeHxFUbLZ7BiqqqqiKJ7nWZbFOR8MBoSQhYWFZDKJEJrgmxqGkUqlGGNTU1OCIHie5zjOaDRyXdeyLEVRGGMYYwghAODzDYRDOedjhCiK4xpKabfb7ff7QRCMRiNK6fT0NEIotDwEGgSBbdvn5+fpdHp5edkwDEEQ2u12o9F4fHwcG6zX681m03Xd0EZ9uQwwxvF4PJPJjLfQOL6u657nAQAcx3EcxzTN0IHye/1yO/0D+gMw2pBv7lQb0wAAAABJRU5ErkJggg==\"/></td></tr></table>"
      ],
      "text/plain": [
       "<IPython.core.display.HTML object>"
      ]
     },
     "metadata": {},
     "output_type": "display_data"
    }
   ],
   "source": [
    "key, subkey = jax.random.split(key)\n",
    "z = jax.random.normal(subkey, shape=(8, latent_size))\n",
    "image = vae.generate(z)\n",
    "\n",
    "mediapy.show_images(image, width=128, height=128)"
   ]
  },
  {
   "cell_type": "code",
   "execution_count": 30,
   "metadata": {},
   "outputs": [
    {
     "data": {
      "text/html": [
       "<table class=\"show_images\" style=\"border-spacing:0px;\"><tr><td style=\"padding:1px;\"><img width=\"128\" height=\"128\" style=\"image-rendering:pixelated; object-fit:cover;\" src=\"data:image/png;base64,iVBORw0KGgoAAAANSUhEUgAAABwAAAAcCAIAAAD9b0jDAAABYUlEQVR4nO2SMYrCQBSGH+tWxiI2oiIhTZBUKUT7FGmSC0hOYBmE3CG30MKkDYiCNl5ATCUewCpooY1N4NctBkXQRJ11G9mvGt7/+OaHGaJ/PpZ2u306nSRJSlv4SguKxaLneZqm3U2Px2PGranScrnsum69Xr+NDMPIMGZJu91uWtRqtTil4/H47lzX9Wq1mi1NRZZlAL7vXw8FQVgulwD2+z2Pmkl3u12z2WSTQqEQBAEAAP1+n6dppVLZbrcABoMBESmK4vs+zniexyMlItM0WdnRaLTZbACs12smVRSFU5rP52ez2aXdfD63bRtAHMe1Wo1TSkSqqvZ6vcViMZ1OLcuyLAtAEAT8RoYgCKIosrPjOM9Ivx9KD4cDO5RKpU6n80yP1M9/i6Zp7H1Wq9XbpBfCMHy/9CF/In2ByWQCYDgc5nK57M0XmkZRRERJkgD4VbtrDMMA0Gg03mb8UH4AhJGjWFHkK/8AAAAASUVORK5CYII=\"/></td><td style=\"padding:1px;\"><img width=\"128\" height=\"128\" style=\"image-rendering:pixelated; object-fit:cover;\" src=\"data:image/png;base64,iVBORw0KGgoAAAANSUhEUgAAABwAAAAcCAIAAAD9b0jDAAABVElEQVR4nO2SsaqCYBiGX09ii2A2dQFtNYiDi7SWgRcR3UE3YEJ4BUKTGDiLrY0ubTW2GgjhJrpEOvycQZAmj/E7xXnG3+97fIYP+OcbGI1Guq5nWWbb9mw26/V6HUhd1yVvmKZJa1RVNc/zoigOh0MlPZ1ObRZ/Gr6Nx+P1et3v9+/3e/VyPp9pS2sMw6hKJ5NJm/mm0hpZlgHcbrcoiqjqakRRTNOUEOJ5XsuVP0pFUQyCYDAYALherxzHUSYCgCzL9T09n884jhVFYVmWSjocDk3TvFwu79eqaVoHvSzLKoqy3W4raRiGtLE1HMclSVJ5N5tNw2Srk6ooy3K329U/6EYKwPf9NmOfSXme7166Wq0YhkmSJI7jjxabOB6PhBDHcZrHWl3GfD5fLBYAlsslgP1+T9+H6XT6eDwIIa/Xy3VdQRA6kAKQJCkMQ8uyutF9Nb8qvKP8kWAYpwAAAABJRU5ErkJggg==\"/></td><td style=\"padding:1px;\"><img width=\"128\" height=\"128\" style=\"image-rendering:pixelated; object-fit:cover;\" src=\"data:image/png;base64,iVBORw0KGgoAAAANSUhEUgAAABwAAAAcCAIAAAD9b0jDAAABa0lEQVR4nO3TIavCUBjG8cPRubQoohaDeUz8AsZpMsiywaFbl5V9AaOIYJRhn8MorGoYyEAF02BJMKggjIHw3CBcbrh40Z1wg//+/ngP5xxCPn16vfF4PJ1OGUCSJFUqFUppPp+/XC6apjFAXdcFUC6X5/M5gHq9nlSs1Wq32+1+vxuGAcBxnEwmk0isVqubzQbAaDTyPA9Ao9FgI67X69lsBsC27URr5nK5xWIB4Hq9qqoaRVEcx7IsJ1pzMpkAWK1WkiTZtg3ANM3nI/RP9HHMOI7b7Xaz2QyCwHGcXq83GAxSqdSbm3Y6HfyW67rpdPpNlOM4RVHO5zOA4/Ho+77v+5ZlFQqFN8VHuq4DOBwOpVIpEfQdz/OP+2m1WmxEQohpmgwe5s94nt9ut1EUiaLIRiSEdLtdAMPhkJkoCEIYhvv9vlgsMkNVVQXQ7/eZiYSQ5XK52+2y2eyrg8++KaXUsqzT6ZRgsX/eFx7/x3B8S2PnAAAAAElFTkSuQmCC\"/></td><td style=\"padding:1px;\"><img width=\"128\" height=\"128\" style=\"image-rendering:pixelated; object-fit:cover;\" src=\"data:image/png;base64,iVBORw0KGgoAAAANSUhEUgAAABwAAAAcCAIAAAD9b0jDAAAA+0lEQVR4nO2U0Y2FIBBFx60D+mAKEfugD4xtOPaB1DFAHewHiSG76mOJL9mPd/4QPJnMHQD48OEWKWXO2RgjpWw5PzR6mfkwbtsmhIgxAoBSynsvhAAARByGBqHW2jnHzPkWIiIirfXrSoloHMff36dpAoAQgpRy3/cQwo8Dl1JEdM4dy3meU0oxxlNLKyWckk+n4pTSyo4fv272lmUp6r6aLrHWlnDf4rXWPuwlonr4H+MtTfjTJNylX1MmARH7arqkPa7WSktKKaVO6fHY1KzrCgBKqU5pCKG+RYjIzKWb3vsW6TlElHN2ztWP5gMpGWOKlJmJ6Pnc/wXfeFu8PMNJDMsAAAAASUVORK5CYII=\"/></td><td style=\"padding:1px;\"><img width=\"128\" height=\"128\" style=\"image-rendering:pixelated; object-fit:cover;\" src=\"data:image/png;base64,iVBORw0KGgoAAAANSUhEUgAAABwAAAAcCAIAAAD9b0jDAAABsklEQVR4nO2UPWvCQBiAU7klEVyEA0ch4JDBQd0EFQdXNwlmMZs/Q4IOtzgFXCK6+QvETZyiruLgoJMgIgl+LYa8uQ6hYrW2aXAp9BlfHh5e7o5jmH88gzEuFouGYVBKZVl+QbFarQ4GA/hgv9+XSqUvzTcvOZZl1+s1x3HT6dRxHHeYSCQQQvl8Xtd1PzuyLAsAnU4HIXQdzmYzAEin048+ehw9crlcZFnebre2bXvxPUUdx+l2u15Ml4B39ZZQKIQQOp/PlmX5K9yDMe73+wBACPlS8LNpu90uFAqUUo9H/DPJZNIwDADQNO01xXg8vlgs3McvCMJriqfTCQBM05QkKRDweckMwzCZTEZVVVVVrztWKhWfLY7jUqnUaDQyTRM+E4lEfp2LRqOKorRaLXhCs9nMZrO/KGKMRVG8q9i2rWmaIAir1cqdbDabXC7H8zzP8xjj73bneX4ymdzmDocDIaTRaLhCLBYjhByPx1tnPB4rivI0KknSVbUsa7fbiaL4qJXL5d0NvV4vHA4/jVJK3aKu67VazfOZ3fPpl6rX68FgcDgczufz5XLpO/rPH+EdL1oxHx37brQAAAAASUVORK5CYII=\"/></td><td style=\"padding:1px;\"><img width=\"128\" height=\"128\" style=\"image-rendering:pixelated; object-fit:cover;\" src=\"data:image/png;base64,iVBORw0KGgoAAAANSUhEUgAAABwAAAAcCAIAAAD9b0jDAAABgUlEQVR4nO3SIYsCURAH8AkLq4jiCoZlWUSwajYaBMGyWIxabH4BwSJGsW0TtC1oMJr0C7igsMEgiogaNGi2/McLDw7D3XJ3vnR3//be4/2YYYboP78tgUDAsizXdZmZmeWgg8EAAIDz+TwcDl/l8vn85XJhZtd1i8ViNBp9VSyXy4fDAUCr1YrH469yRFQqlfb7PQDHcSRwRKTr+ul0YubxePx8HwqFdF3/IWpZFoDr9fretWmalUpluVwej8dUKvXZR8UHbTabROR5nmEY9Xpd07RqtRoOh8VroVDYbrffrrTf7+MpzLxYLHa7nTj6VOoXVVXn87kgHMdpt9uZTEbMzfO8n4gfxrbtx+OxXq9jsZgcMZlM3m43AL1eT44YDAaFOJlMVFWVIGqaNp1OmRlANpuVIBJRLpcT0+90Oorit4VfTSKR2Gw2zLxarQzDkCCapjkajcRWyREVRZnNZgDu93utVpMgElG32xU1NhoNOWI6nRbjtm07EonIQf9G3gCd6tZVctGVJQAAAABJRU5ErkJggg==\"/></td><td style=\"padding:1px;\"><img width=\"128\" height=\"128\" style=\"image-rendering:pixelated; object-fit:cover;\" src=\"data:image/png;base64,iVBORw0KGgoAAAANSUhEUgAAABwAAAAcCAIAAAD9b0jDAAABfUlEQVR4nO2TMWvCQBiGLwUziKKgguCUcCKOcVAQDIKaX5A14JLZ3UVEwSV/wNlFhawhk7NL9gTRyUGiiIpoCFzSwVYsLe3V3Ogzfrzfw8txHwAvXhCF+j5Kp9P9fl9V1cdhtVp1XVcUxVwu97FJUYPBoN1uY0mz2axpmrc13/fv8+VyudvtAACWZTEMw/P8fD4vl8tY5Wma5jjONM1GowEhrNfrEEIIYTQavWfG47HneYqiYBlxKBaL+/1+tVqFw+EfA29PSEulUiwW0zTtcrkEq/dJoVCwbXu9Xv+S+XfTZrOZSCRms1mAYl+RJMlxnPP5zHEcMamu6wih0WhEzJjJZE6n0+FwqFQqxKS9Xs/zvE6nQ8yYTCav1+vxeKzVasSktxMaDoc4YawvlUqlBEEAABiGEajaI6qqIoQmk0koFCJjvJ8QwzBkjJFIZLFYIIRarRb+1h9vKssyy7IAANd1A7V7ZLvdIoQ2m00+nycmnU6n3W43Ho8TMz7NO850kfpTz8H2AAAAAElFTkSuQmCC\"/></td><td style=\"padding:1px;\"><img width=\"128\" height=\"128\" style=\"image-rendering:pixelated; object-fit:cover;\" src=\"data:image/png;base64,iVBORw0KGgoAAAANSUhEUgAAABwAAAAcCAIAAAD9b0jDAAABZElEQVR4nO2Ura7CMBiG25Ojil3tapkFze4B7oFZQM+xhVvAD7vp2SXI6XEBKDq9TPG1R3xJ04SA+EAcwSua5Wn25E3/GPvmP0RKeblcAMAYk2XZZ4xt2wLA/X7H8XQ6vWWM49jvWFUVAPR9H4YhvWNRFNguyzIhhBCiLEsAmM1mRCn2GoZhuVw6mCRJ27ZBEFCMaZpix6IofL5YLIjGPM9xHZumofz/mCiKsKPWmr52fiaTSVVVxhgAyPNcKfUB6Xw+d+cRAG63W5qmbxnjOMaOxpiu63Cj+77fbrd0aZIk2LHrOiGET17/+PNibr1ec84559frdRxHhEiklBSplDIIAmuttfZwODiOxD//j/l9NqGUCsOQc84YO5/PjiN5nadSbIQfDk6nU8cpwSfOWgsASHa7HZ4ErTVRyry9Xq1WURRprfG0bjYbupR5t96NdV0TXxAXpdTxeHQ3ar/fv6X7hpw/WhwTLB5gTZgAAAAASUVORK5CYII=\"/></td></tr></table>"
      ],
      "text/plain": [
       "<IPython.core.display.HTML object>"
      ]
     },
     "metadata": {},
     "output_type": "display_data"
    },
    {
     "data": {
      "text/html": [
       "<table class=\"show_images\" style=\"border-spacing:0px;\"><tr><td style=\"padding:1px;\"><img width=\"128\" height=\"128\" style=\"image-rendering:pixelated; object-fit:cover;\" src=\"data:image/png;base64,iVBORw0KGgoAAAANSUhEUgAAABwAAAAcCAIAAAD9b0jDAAACZ0lEQVR4nO2VT0vjQBjGM0kmIf8VQ6kghFw8hBYPRXoIKJ40936fHgv9Ap48+yH0CxQEL4LiJaSV0hiqmKY2nSQzHrIU2c24dreXhX2Oz8z85nnfyWQY5r/+CQHqAACCIEAI0zTN83zllyaEMEmSz/5nsTTi9vZ2r9fr9/uO43AcV5oAANM0z87OOp2OqqoAVGfiq7di2cPDQ8/zgiBYLpelSQgBACiKcnp6OpvNBEEAABBCvgvFGL+8vGRZNhqNJpNJURSlDyE8Pj4+OTkZDocY40oitXxCyHQ6vbm5ub6+TtP085BhGDs7O6+vrwih9aAMw5T9sm1b1/WVKQjC0dGRoiiSJJXlV66tLh8AgDHe398/ODiI4/jy8nKxWEAILcuybRshdHt7ixBar6dlKITQ7u5uu90OguDt7U3X9Vartbe3N5vN7u7uCCG08qlJOY5DCGma5rpus9mMokiSJJ7nZVkej8d5nrMsu3bSNE0fHx+Lolgul/V6XVXVra0tQRCKonh6erq/v18sFhjj6ky0pGUoWZYdxzFNU1GUVqvVaDRqtdrFxcX5+fl8PqcFqk5KCMnzPI7jOI7DMGRZVpKkh4eHbrcLIYyiCCFEI35V/qpZhBCMcZIkvu+LojifzweDAe3W/wb66x6maTqOkyRJFEW0cy9F/fh/Esdxnufpuh6GYZIkX0/+LhRjDCEURTHLstWv4G+hDMNIklQeIO12/gkUY5ymKc/zEMLNQAEAURS9v78bhqFp2teT1zj9MAx9339+fsYY0y7ojwTfhDIMY1mW67pxHF9dXa2egw2ofKY2hltLH2orLlh/jLFTAAAAAElFTkSuQmCC\"/></td><td style=\"padding:1px;\"><img width=\"128\" height=\"128\" style=\"image-rendering:pixelated; object-fit:cover;\" src=\"data:image/png;base64,iVBORw0KGgoAAAANSUhEUgAAABwAAAAcCAIAAAD9b0jDAAACc0lEQVR4nO2Vz2rqQBjFZzJJjH+wUjHaUtuIfyhIazfiSt/CnV24sQ9TcOEjdNMHcFdXImqhSistLlrppkohghhjUDPJTBdyC3dhYr13c+Ge7cz34/Bx5gwA//W3BW2OIQQAMAwDACCEUEr/CMqyrNPpFEUxk8lkMhmM8c3NTb/fNwzjJ6Z/lyAIuVyuUqnc399Pp1NFUe7u7tLp9Nq1tTbeQAhJkhQKhRRFgRA6HI5IJFIqlQRBsIWymw6Wy2Wz2eR5fn9/PxQKRSKRvb09p9NpS7RySgiRZfnx8fHp6UlRFISQaZrtdhtjvDuUUrpYLMbjsSRJJycnHMcNh8OXl5dtAmC1dUIIwzDZbNblcq1Wq9Fo5HA4bIk2UISQ3+83DEPXdV3XeZ4PBAIej2cd3h2hHMchhIbDoSzLqqp6vd5EIpHNZkVR3B1qmubn52e73X57e3t/f9c07fDw8OrqqlAo8DxvMbgxUgAAjLEsy61WS9O0WCwWjUYDgcDp6akkSY1Go9vtmqb5YyghRNd1jHGn0xkMBuFwWBTFVCp1dHSUz+efn58Xi8WPoQAASuk6W4QQwzA+Pj56vd7BwUEymfR4PDtCvwUhnM/nLMtijEVRTCaTFmu1bwfwqwAhhD6f7+zsjOd5QRAsmmUrp5RSlmXdbvfFxUU8HjdNs16vj8fjbWY3iuO44+Pjy8vLarWqKMpgMMjlcgih3YkQQq/XWywWHx4eJpOJqqq3t7d+v9/iXW3RuAzj8/nOz8+DwSAAoN/vl8vl2Wxm0Sz2O6WUQghVVZVluVarXV9fv76+EkIsRmyq4dusy+UCAGiatuXf94/oCxk8EB5qvaoEAAAAAElFTkSuQmCC\"/></td><td style=\"padding:1px;\"><img width=\"128\" height=\"128\" style=\"image-rendering:pixelated; object-fit:cover;\" src=\"data:image/png;base64,iVBORw0KGgoAAAANSUhEUgAAABwAAAAcCAIAAAD9b0jDAAACm0lEQVR4nO2UP0vrUBjG856TNqepIVRbaktrRLHgIAiCuAgtlCpOgorg6CQuDg6Ffhi3Th0U8QOIS4UqKhSHCiqKzWDjH5o0xpyTOAiXi7beRrzDhfvM5/3xPOc87+G4//onBJ4HAHie7+3tTSQSoigeHx+bpum67u9neE84v98fDAbn5ubW19cZY6enpxcXFy8vL9+EYowjkUgmkxkZGVleXh4cHLy8vGw2m4yxD8RuoRhjRVFmZmYmJydjsZgsyz6fz+/3V6vVZrP5HShCaGBgYGNjY2JiwufzMcaen585jqtUKgcHB7Zttxn5mggAiqJsbm6m0+lQKGSaZl9fn6IojLGdnZ1Go8EY8wYFgGg0urq6Oj09LQhCvV6vVquhUIgQ8vT0dH193dYm93X8QCAwPz+/uLjIcdzJyUkwGMzlcpIk2bZdqVQ0TQMAAPh8px2dIoRSqdTCwkJ/f7/ruq1Wa2xsLB6PO45zd3d3fn5OCCGE8DwP8LHsHaGEkEQiIcuyYRiiKE5NTYXDYUIIpfTo6KhWq72XyXGcbuNjjAkhhmGUy+Wenp5UKhUOhxFCGONWq3V4eHhzc3N/f29ZluM4n+O3X9P3XYxEIpIkxWKx2dnZdDo9OjpqGMbS0tLZ2ZllWYyxtjY7OnVdl1KqadrDw4NlWbIsJ5NJXdfX1tbK5XInVldCCAmCsLKy0mg0bNve2toSRfH7uF/QeDy+t7dHKVVVdWho6PNDe1YgEMjn85qmPT4+ZjKZHyACwPDw8NXVFaW0VCoh9IeF7tbm/v7+6+trrVZLJpM/QASAbDar67qu64VCgec9/OVcp0ohhMbHx03TvL29LRaLlNIfgGKMVVXd3t7e3d1VVdUTsaMAQBAESZK8Bv+LegOXlSRwyDUT/gAAAABJRU5ErkJggg==\"/></td><td style=\"padding:1px;\"><img width=\"128\" height=\"128\" style=\"image-rendering:pixelated; object-fit:cover;\" src=\"data:image/png;base64,iVBORw0KGgoAAAANSUhEUgAAABwAAAAcCAIAAAD9b0jDAAAC3UlEQVR4nO3UP0vzQBwH8LvLJRds04MSrVVMS0EdlCoo4qSLk4tvwMVFHH0Ljo6+BF+Gf4s6VUQdilZasUWxhsarkJ5tE3NxCDj1j4/yTM/znY7k8uGXH787AP7n3w3svQNCjLHv+wAAIUSwgBDKstzX10cpbbVawSshRL1eb7Va3VAIIUKIUppMJnVdxxgnEglCiGEYsVhseHgYQqhpGmOsUqnYtn19fZ3JZB4eHnAXlBAyPT29vr4+NTU1MDCgaZrrup7n2bZtGIaiKL7vv729RSIRhFC9Xi+VSo7jCCE6ohhjXde3trZmZmYURSGEeJ6Xy+UajQbGOBwOc86r1erZ2Vk+nzdNk3N+f3//+voKAOiIapq2sbExPz8vhHh6erq8vDw/Pz89PZUkyTCMUqn0+PjIGBNCfPUKABB0vH0QQul0OpvNWpZ1dXW1ubk5MjJCKVVVVVEUjLs1rWOlCKHBwUFCSKFQ2N7evru7c13XcZygp91FAABq+1SSJIyxZVn5fP75+RkAEA6Hg6HpKYJOc4oxjsfjS0tL0WhUCCHLcrFYzGQynHPHcX6IIoRkWe7v7x8bGxsdHU2lUi8vL9lstlar3d7e9kTb/74QwnEcxli1WhVCxGKxxcXF1dXV9/f3nmJHFADg+36j0SgUCoeHh4yxycnJ5eXldDotSdJ33G6BEEqSlEqldnZ2yuXywcEBpfTnlX7VK4SwLOvi4uLm5kbXdUVRfosGxRJCEolENBp1Xdd13Z6ftB/+4MwFt5Qsy8lkcmhoiDF2dHTEOf8JihBCCCmKomlaKBTSdX1lZWV8fLxcLu/v7398fPwxCiEMuImJidnZWQihZVlzc3Oqqh4fHxeLxZ5iG9T3fc/z4vH42trawsICpZRzjhDa29s7OTlpNpvd7qFOKABACGHbtmmatVqNEFKpVHK53O7urmmavzr7EEJVVSORSCgUsiyr2Wy6rvudGv9iPgFO7F/KM8jYoQAAAABJRU5ErkJggg==\"/></td><td style=\"padding:1px;\"><img width=\"128\" height=\"128\" style=\"image-rendering:pixelated; object-fit:cover;\" src=\"data:image/png;base64,iVBORw0KGgoAAAANSUhEUgAAABwAAAAcCAIAAAD9b0jDAAADYElEQVR4nO2VTUsybRTH55rXynHUGYnJATMTK3Aoc5GEEW2CwIVfIoI+iRC0sF2bPkEQGNUiQaIko1cxougFFLE3rQlHnfdnYXhL3dSd9/Psnv/6Or9zrsM5/wNB7QoA0HZsW/l+8BQAFEUhCNJ1HUEQVVV1XW8fCsMwSZL9/f1Op5NlWY/HI4piNpvd29srlUqf6d9DYRg2m81+vz8cDjscDpfLZbfbCYKoVCrJZHJ5efni4kKW5dYQ9FsiRVFerzcSidRqtZOTE0mSRFH0er09PT2BQKCzs/NzE76BYhgWDAZnZmasVuvx8XEikaBpenR0dGpqKhQKURTldrsPDw9/BiUIYnBwUJKk1dXVdDr9/Px8f39/e3u7v78fjUa7u7sFQdA07WvI77/PcRxFUTAMvxeCojzPPz4+lkqlUCj0M2JDAIAPc47j+OLiomEYgiDY7fZ2oJ9z2Gy2QqFgGMba2lqz/PbV6EY0GpVl+e7ujmXZf6FMkiRjsZgoirIsz8/P/y0OQRCz2RyJRERRlCQpHo+bTKZ2QAAAGIYxDKNpemJiYmFhIZvNVqvVRCJhtVq/CPzNnAIAMAwjCKKxSw6HY3x8PBgMOp1OXdd3d3dnZ2cFQfhTaMOHOI5zu90jIyMDAwMcx6Eo6vP5KIpCEOTl5SWVSn3Y9K+gCIKYTCae50OhkMvl4nmeYZhGByiKUhTl4eEhnU6fnZ35fL6GAzTpAIBWB/gFtVgs4XB4bm5OluWbm5tisahpGk3TFotFFMV8Ph+Pxzc3NxmGmZ6e7uvry+Vyl5eXiqLUajVZliuVimEYH6EMw/j9fpZla7WarusEQZAkaTKZcBzPZDIrKysN9xwaGrLZbMPDwx6Ph+f5SqVyenpaLBar1WrTBNBm/WNjYz6fj2EYDMM4jpNluVAobGxs7OzsbG1tiaKo6zoMw9fX17FYbHJyMhAI9Pb2Kory9vaWy+VaV/lXpaqq1ut1CIJ0Xa/X65lMZmlpaXt7W5Kk5r80TRME4fz8PJ/PHx0dQRCE4/jV1VW5XG71qneoYRjJZLKrq0vTtHK5nEql1tfXn56ePtuaYRiapr2+vh4cHOA43jgBqqo2E0Ot5wQAQBBER0eHoiiSJKmq+tXUQBAEQTAMG4bRivtf/5X+AUnnopnFptTuAAAAAElFTkSuQmCC\"/></td><td style=\"padding:1px;\"><img width=\"128\" height=\"128\" style=\"image-rendering:pixelated; object-fit:cover;\" src=\"data:image/png;base64,iVBORw0KGgoAAAANSUhEUgAAABwAAAAcCAIAAAD9b0jDAAACd0lEQVR4nO2Tz0sqQQDHZ2ZnV8sfu2yyhBnUWTJSPISXpE52saSL4M2Dh/oLYsFT/Rl1SukWLoU3wYvQwYKyk6QoCrtqROnOajTvELzTW0s9vHd4n/N8P3yZ+Q4A//m7QAgZhoEQfnPshzqEkMfjiUQiPp/v9vb25uZGVdXPz8/pC1osllgsVi6XX15edF1/eno6OjpyOp3TG3meT6fTmqYZhtHr9QaDQa1WOzs7CwQCZhE03ogQOjw83NvbI4QcHx/7fL5YLHZ9fT0cDpeWlr693D8TDAZVVS0WiwcHBwghAADHcfF4PJfLnZycMAwzcVOGYWRZdjgciqIoivL1LJRSm80mSdL8/LxZUzxG6nK5vF6vqqoXFxeEEAghhFAQhK2tLYfD8fr6ahYcJ11ZWeE47v39HWPMsizLshjjaDS6vb1ttVo1TTOblKkUQmi32zVNQwiFw+Fqtbq4uDgajZLJpNPp7PV6pVKJUjqZlFLaaDTq9bogCBsbG2tra5IkEUJWV1cppQ8PD81mc2IpAKDdbmez2c3NTUrpwsKCzWYTRdEwjHa7fXl5+fb2NiZrCsbYbrdLkuT1ehOJxNXVVaPRaLVasixLkjTlSAEAEEKWZUVRDIVC9/f3/X7/7u7O7XZ/bXZ6MMZut/v8/FzX9Vqttr+/P33H303n5uZ2d3e73a6u66lUyuwX/RSEEM/zgUDg+fn54+Mjk8nMagQAWK3WRCKRz+cppc1mk+f5WY0QQr/fX6lUOp2Opmk7OzuzGgEALMuenp4ahkEISafTsz73F6IoFgoFQkixWFxeXp4oazoOi8Wyvr4+Go0eHx+Hw+HMJf9NfgFzsQCPuh3E8AAAAABJRU5ErkJggg==\"/></td><td style=\"padding:1px;\"><img width=\"128\" height=\"128\" style=\"image-rendering:pixelated; object-fit:cover;\" src=\"data:image/png;base64,iVBORw0KGgoAAAANSUhEUgAAABwAAAAcCAIAAAD9b0jDAAACAUlEQVR4nO2UPaviQBSGM8kQE79SBMGAjYqVWIiFNhb2CipiY5NGbARL8Zdo44/wP1jFFIIWRhBSmEqTGIIfoyFzC+Gy7PW61zXd7lNMMYfz8A4zcwjiP/8u4FkNgPtKkiSE8L7pOM59nyCI2+32gpRl2Vgsls/nM5lMoVBgGCYYDDqOczweOY5jWVZVVdM0e72epmkY49/a4cOA4XC4Uqk0m81UKsWyLMZY13Vd1xFChmFEo9FcLkcQRK1WGw6HjuP8WYoxPhwO6/XasixJklRVXSwW6/V6s9lACHmeb7VaoigyDMPz/NeYz/D5fJFIxO/3kyT56yFomm632+fz+XK5FIvFh70Pkt5BCO12u6+HgBBms1kAgKZp8/n8hZjfQZJko9EwTVNRlEQi4YGRIAiO45bLpWVZ94vyAABAv99HCC2Xy89n+y5+v382m9m2XSqVvDECAERRPJ1OsizTNO2NlOO4zWbjOE6tVvPGCAAYjUYYY1VVGYbxRppMJm3bvl6vnU7HGyMAYDAYIIRkWQ4Gg95IA4GAJEmmaZbL5c+h9xYURdXrdV3XV6uVIAg/7CKf1AAA8Xi82+26rjuZTAzD8CBmKBQaj8eWZe33+2q1SlHUu0kBAIIgpNNpjLGiKPP53HXdH0q//cIY4/P5PB6PIYTT6XS73b42j5/zFzf+AbP83cyc9vNMAAAAAElFTkSuQmCC\"/></td><td style=\"padding:1px;\"><img width=\"128\" height=\"128\" style=\"image-rendering:pixelated; object-fit:cover;\" src=\"data:image/png;base64,iVBORw0KGgoAAAANSUhEUgAAABwAAAAcCAIAAAD9b0jDAAADF0lEQVR4nNWVzUvrShjGOzNJJDE0qVo/qELpxg9sRbCbghapoOhCF1IQBRHxj3DjzpV/geDCRRdRREUXLhS6KC7UbYnFaktD/EiLTdWKmaRp7qKXg1xOq5XDgfts551nfi/vPDM2258QAOCP+Px1/RAbIURRFMMwmqZhjE3TtCzr56YIoZaWluHh4VAo5HK5RFEUBCGRSBiGYZpmpYaoy5GiqP7+/qWlpbGxsebmZowxQRCxWEySpNfX119ldZg2NDTMz88vLCz4fD6WZd/e3nRdz+Vy7+/vEMLPld81JUkyHA6vra2xLEvTdLFYPD8/V1U1Go2mUqlisVgqleozRQiFQqH19fWmpibTNLPZrCRJZ2dnoiim02lVVXVd/1z/9aAAAH19fbu7ux6Pp1AopNPpo6Ojh4eHy8tLSZI0TbMs6/PovyWe53d2djRNy+fzBwcHKysrHo/H4XCQJFltyxftAwCmpqaCwSAAQBTFaDR6cXHx+PiIMS6Xy9V2wWoLFTU2Nk5PT1MUpSjK4eFhPB6XZVnX9dr91iKFEAaDwdHRUQhhIpEoFAq9vb3Pz8+/UvQTUqfTubq6Wpn4y8uL3++fmJhYXl72+XwURdV4mX5PCgCw2+1zc3M9PT2lUklRlI+Pj66uLo7jXC4XwzAbGxupVMowjDpIIYRut3tmZqaSnFgsFolEtra2bm5u7HZ7IBAYGRn5T4q+JkUIDQ4Otre353K5vb29zc3N+/t7AABCyOv1dnR0DA0NCYKAMf6uKQCAZVmv18txnKZpJycnmUwGYwwhlGXZ6XS2tbXxPF+t96qmDoeDYRjDMGRZzmQylmURBEHTdHd3d2trK0JIFMX6TMvl8tPT09XV1cDAAMbY7/cjhDiOGx8fX1xcJEkymUxGIpEaV6rKUQQRCAQEQbi9vb27u4vH48lkEmNsWZaiKOFwuEZGf09qs9lM08xkMtlsliAInudpmkYIAQDy+fz29vbp6WmN3m01XikIYWdn5+Tk5OzsrNvttizr+vr6+Ph4f39fVdUawf+WKoz/Ivxf//e/qn8AFMxxm7/MsOYAAAAASUVORK5CYII=\"/></td></tr></table>"
      ],
      "text/plain": [
       "<IPython.core.display.HTML object>"
      ]
     },
     "metadata": {},
     "output_type": "display_data"
    }
   ],
   "source": [
    "key, subkey = jax.random.split(key)\n",
    "image_index = jax.random.choice(subkey, image_test.shape[0], shape=(8,))\n",
    "image = image_test[image_index]\n",
    "\n",
    "state_axes = nnx.StateAxes({nnx.RngState: 0, ...: None})\n",
    "image_recon, _, _ = nnx.split_rngs(splits=8)(\n",
    "\tnnx.vmap(\n",
    "\t\tlambda vae, image: vae(image),\n",
    "\t\tin_axes=(state_axes, 0),\n",
    "\t)\n",
    ")(vae, image)\n",
    "\n",
    "mediapy.show_images(image, width=128, height=128)\n",
    "mediapy.show_images(jax.nn.sigmoid(image_recon), width=128, height=128)"
   ]
  }
 ],
 "metadata": {
  "kernelspec": {
   "display_name": "base",
   "language": "python",
   "name": "python3"
  },
  "language_info": {
   "codemirror_mode": {
    "name": "ipython",
    "version": 3
   },
   "file_extension": ".py",
   "mimetype": "text/x-python",
   "name": "python",
   "nbconvert_exporter": "python",
   "pygments_lexer": "ipython3",
   "version": "3.12.6"
  }
 },
 "nbformat": 4,
 "nbformat_minor": 2
}
